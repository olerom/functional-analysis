{
 "cells": [
  {
   "cell_type": "markdown",
   "metadata": {},
   "source": [
    "<strong>Дано числовое уравнение, т.е. уравнение в одной вещественной неизвестной.\n",
    "    \n",
    "A. Преобразовать уравнение к виду, пригодному для применения принципа\n",
    "сжимающих операторов.\n",
    "\n",
    "B. Методом простых итераций найти приближенное решение с точностью $10^{-5}$, используя априорную и апостериорную оценки числа итераций.</strong>\n",
    "\n",
    "$x + \\frac{x}{x^{2} + 1} + \\sin{\\left (\\frac{x}{2} \\right )} = 5$\n",
    "\n",
    "<i>A. Преобразуем уравнение к виду, пригодному для применения принципа сжимающих\n",
    "операторов.</i>\n",
    "\n",
    "Обозначим $\\varphi(x) = x + \\frac{x}{x^{2} + 1} + \\sin{\\left (\\frac{x}{2} \\right )} - 5$, причем $\\varphi(x) = 0$. \n",
    "\n",
    "Вычислим $\\varphi^{'}(x)$:"
   ]
  },
  {
   "cell_type": "code",
   "execution_count": 1,
   "metadata": {},
   "outputs": [
    {
     "data": {
      "text/latex": [
       "$$- \\frac{2 x^{2}}{\\left(x^{2} + 1\\right)^{2}} + \\frac{1}{2} \\cos{\\left (\\frac{x}{2} \\right )} + 1 + \\frac{1}{x^{2} + 1}$$"
      ],
      "text/plain": [
       "                 ⎛x⎞             \n",
       "        2     cos⎜─⎟             \n",
       "     2⋅x         ⎝2⎠         1   \n",
       "- ───────── + ────── + 1 + ──────\n",
       "          2     2           2    \n",
       "  ⎛ 2    ⎞                 x  + 1\n",
       "  ⎝x  + 1⎠                       "
      ]
     },
     "metadata": {},
     "output_type": "display_data"
    }
   ],
   "source": [
    "import sympy as sp\n",
    "from IPython.display import display\n",
    "\n",
    "sp.init_printing(use_latex='mathjax')\n",
    "\n",
    "x = sp.Symbol('x')\n",
    "varphi = (x + sp.sin(x/2) + x/(1 + x**2) - 5) \n",
    "\n",
    "diffed_varphi = sp.diff(varphi, x)\n",
    "display(diffed_varphi) "
   ]
  },
  {
   "cell_type": "markdown",
   "metadata": {},
   "source": [
    "Поскольку \n",
    "$$- \\frac{1}{2} \\leq \\frac{1}{2} \\cos{\\left (\\frac{x}{2} \\right )} \\leq \\frac{1}{2},$$\n",
    "$$0 < \\frac{1}{x^{2} + 1} \\leq 1,$$\n",
    "Рассмотрим $1 - \\frac{2x^{2}}{(x^{2} + 1)^{2}}$:"
   ]
  },
  {
   "cell_type": "code",
   "execution_count": 2,
   "metadata": {},
   "outputs": [
    {
     "data": {
      "text/latex": [
       "$$\\frac{x^{4} + 1}{x^{4} + 2 x^{2} + 1}$$"
      ],
      "text/plain": [
       "     4       \n",
       "    x  + 1   \n",
       "─────────────\n",
       " 4      2    \n",
       "x  + 2⋅x  + 1"
      ]
     },
     "metadata": {},
     "output_type": "display_data"
    }
   ],
   "source": [
    "research = 1 - (2*x**2)/(x**2+1)**2\n",
    "research = sp.simplify(research)\n",
    "display(research)"
   ]
  },
  {
   "cell_type": "code",
   "execution_count": 3,
   "metadata": {},
   "outputs": [
    {
     "data": {
      "text/latex": [
       "$$\\left [ -1, \\quad 0, \\quad 1\\right ]$$"
      ],
      "text/plain": [
       "[-1, 0, 1]"
      ]
     },
     "execution_count": 3,
     "metadata": {},
     "output_type": "execute_result"
    }
   ],
   "source": [
    "sp.solve(research.diff(x))"
   ]
  },
  {
   "cell_type": "markdown",
   "metadata": {},
   "source": [
    "Теперь найдем наибольшее и наименьшее знаяения:"
   ]
  },
  {
   "cell_type": "code",
   "execution_count": 4,
   "metadata": {},
   "outputs": [
    {
     "data": {
      "text/latex": [
       "$$\\frac{1}{2}$$"
      ],
      "text/plain": [
       "1/2"
      ]
     },
     "metadata": {},
     "output_type": "display_data"
    },
    {
     "data": {
      "text/latex": [
       "$$1$$"
      ],
      "text/plain": [
       "1"
      ]
     },
     "metadata": {},
     "output_type": "display_data"
    }
   ],
   "source": [
    "import numpy as np\n",
    "\n",
    "values = [research.subs(x, -1), research.subs(x, 0), research.subs(x, 1)]\n",
    "\n",
    "display(min(values))\n",
    "display(max(values))"
   ]
  },
  {
   "cell_type": "markdown",
   "metadata": {},
   "source": [
    "Следовательно, $ \\frac{1}{2} \\leq 1 - \\frac{2x^{2}}{(x^{2} + 1)^{2}} \\leq 1$\n",
    "\n",
    "Тогда получаем оценку\n",
    "$$0 < \\nu \\leq \\varphi^{'}(x) \\leq \\mu,$$\n",
    "$$ \\nu = 0, \\mu = \\frac{5}{2}$$\n",
    "\n",
    "Отсюда следует, что $\\nu = 0$. Хотя по определению $\\nu > 0$.\n",
    "\n",
    "А следовательно, уравнение нельзя преобразовать к виду, пригодному для применения принципа сжимающих операторов."
   ]
  }
 ],
 "metadata": {
  "kernelspec": {
   "display_name": "Python 3",
   "language": "python",
   "name": "python3"
  },
  "language_info": {
   "codemirror_mode": {
    "name": "ipython",
    "version": 3
   },
   "file_extension": ".py",
   "mimetype": "text/x-python",
   "name": "python",
   "nbconvert_exporter": "python",
   "pygments_lexer": "ipython3",
   "version": "3.5.2"
  }
 },
 "nbformat": 4,
 "nbformat_minor": 2
}
