{
 "cells": [
  {
   "cell_type": "markdown",
   "metadata": {},
   "source": [
    "<strong>В пространстве $C[0; 1]$ дано интегральное уравнение Фредгольма с вырожденным ядром, содержащее числовой параметр $\\lambda > 0$.\n",
    "\n",
    "A. Определить, при каких значениях параметра $\\lambda$ к этому уравнению применим принцип сжимающих операторов.\n",
    "\n",
    "B. Взять любое подходящее значение $\\lambda$ и методом простых итераций найти приближенное решение этого уравнения\n",
    "с указанной точностью $\\varepsilon$, используя априорную оценку числа итераций.\n",
    "\n",
    "C. Найти точное решение этого уравнения и сравнить с приближенным. </strong>\n",
    "\n",
    "$x(t) = \\lambda \\int_0^1{\\mathrm{(t^2 + s^2)x(s)}\\,\\mathrm{d}s} - 2t, \\varepsilon = 10^{-4}$\n",
    "\n",
    "<i>A. Найдем значения параметра $\\lambda$, при которых к уравнению применим принцип сжимающих операторов.</i>\n",
    "\n",
    "Рассмотрим интегральный оператор \n",
    "$$Ф: C[0; 1] \\to C[0; 1], Ф[x] = \\lambda \\int_0^1{\\mathrm{(t^2 + s^2)x(s)}\\,\\mathrm{d}s} - 2t.$$\n",
    "\n",
    "Функция $K(t, s) = \\lambda (t^2 + s^2)$ – ядро интегрального оператора. Уравнение $x(t) = \\lambda \\int_0^1{\\mathrm{(t^2 + s^2)x(s)}\\,\\mathrm{d}s} - 2t$ имеет вид $Ф[x] = x$, его решение – неподвижная точка оператора $Ф$.\n",
    "Обратимся к достаточному признаку сжимающего оператора. При условии\n",
    "$$\\alpha = \\lambda \\max_{t \\in [0; 1]}{\\int_0^1{\\mathrm{|(t^2 + s^2)|}\\,\\mathrm{d}s}} < 1$$\n",
    "\n",
    "оператор $Ф$ сжимающий с коэффициентом сжатия $\\alpha$.\n",
    "\n",
    "Необходимо вычислить $\\int_0^1{\\mathrm{|(t^2 + s^2)|}\\,\\mathrm{d}s} = \\int_0^1{\\mathrm{(t^2 + s^2)}\\,\\mathrm{d}s}$."
   ]
  },
  {
   "cell_type": "code",
   "execution_count": 151,
   "metadata": {},
   "outputs": [
    {
     "data": {
      "text/latex": [
       "$$t^{2} + \\frac{1}{3}$$"
      ],
      "text/plain": [
       " 2   1\n",
       "t  + ─\n",
       "     3"
      ]
     },
     "execution_count": 151,
     "metadata": {},
     "output_type": "execute_result"
    }
   ],
   "source": [
    "import sympy as sp\n",
    "from IPython.display import *\n",
    "\n",
    "sp.init_printing(use_latex='mathjax')\n",
    "\n",
    "t = sp.Symbol('t')\n",
    "s = sp.Symbol('s')\n",
    "\n",
    "expr = t**2 + s**2\n",
    "sp.integrate(expr, (s, 0, 1))\n"
   ]
  },
  {
   "cell_type": "markdown",
   "metadata": {},
   "source": [
    "Находим максимум \n",
    "$$\\max_{t \\in [0; 1]}{(t^2 + \\frac{1}{3})} = \\frac{4}{3}$$\n",
    "\n",
    "Осталось выразить параметр $\\lambda$:\n",
    "$$\\alpha = \\lambda \\frac{4}{3} < 1$$\n",
    "\n",
    "Таким образом, при $\\lambda < \\frac{3}{4}$ к уравнению \n",
    "$x(t) = \\lambda \\int_0^1{\\mathrm{(t^2 + s^2)x(s)}\\,\\mathrm{d}s} - 2t$\n",
    "применим принцип сжимающих операторов: уравнение имеет единственное решение и можно использовать метод простых итераций для поиска приближенного решения.\n",
    "\n",
    "<i>B. Возьмем $\\lambda = \\frac{1}{2}$ и методом простых итераций найдем приближенное решение уравнения с точностью\n",
    "$\\varepsilon = 10^{-4}$ используя априорную оценку числа итераций.</i>\n",
    "\n",
    "Для произвольного начального приближения $x_0$ последовательность итераций задается рекуррентной формулой $x_n = Ф[x_{n - 1}]$. В данном случае\n",
    "\n",
    "$x_n(t) = \\frac{1}{2} \\int_0^1{\\mathrm{(t^2 + s^2)x_{n - 1}(s)}\\,\\mathrm{d}s} - 2t$\n",
    "\n",
    "Выбираем произвольным образом начальное приближение, например $x_0(t) = 1$, и вычисляем первую итерацию $x_1(t)$:"
   ]
  },
  {
   "cell_type": "code",
   "execution_count": 11,
   "metadata": {},
   "outputs": [
    {
     "data": {
      "text/latex": [
       "$$\\frac{t^{2}}{2} - 2 t + \\frac{1}{6}$$"
      ],
      "text/plain": [
       " 2          \n",
       "t          1\n",
       "── - 2⋅t + ─\n",
       "2          6"
      ]
     },
     "metadata": {},
     "output_type": "display_data"
    }
   ],
   "source": [
    "x_prev = sp.Symbol('x_{n - 1}')\n",
    "under_integral_expr = (t**2 + s**2)*x_prev\n",
    "\n",
    "x0 = 1\n",
    "to_be_x1 = under_integral_expr.subs(x_prev, x0)\n",
    "\n",
    "x1 = (sp.Rational(1, 2) * sp.integrate(to_be_x1, (s, 0, 1)) - 2*t)\n",
    "\n",
    "display(x1)"
   ]
  },
  {
   "cell_type": "markdown",
   "metadata": {},
   "source": [
    "Теперь найдем априорную оценку $N_{apr}$ числа итераций:"
   ]
  },
  {
   "cell_type": "code",
   "execution_count": 122,
   "metadata": {},
   "outputs": [],
   "source": [
    "import math\n",
    "from scipy.optimize import minimize_scalar\n",
    "import numpy as np\n",
    "\n",
    "def dist(x1, x0):\n",
    "    rho_func = sp.lambdify(t, sp.Abs(x1 - x0))\n",
    "    res = minimize_scalar(lambda x: -rho_func(x), bounds=[0,1], method='Bounded')\n",
    "    return sp.Abs(x1 - x0).subs(t, res.x)\n",
    "\n",
    "def is_enough(alp, x1, x0, eps): \n",
    "    return (alp/(1 - alp))*dist(x1, x0) <= eps\n",
    "\n",
    "def apriori_weight(alp, eps, x0, x1):\n",
    "    return (math.log(eps*(1 - alp)/dist(x0, x1), alp) + 1)"
   ]
  },
  {
   "cell_type": "code",
   "execution_count": 123,
   "metadata": {},
   "outputs": [
    {
     "data": {
      "text/latex": [
       "$$16.510101115282527$$"
      ],
      "text/plain": [
       "16.510101115282527"
      ]
     },
     "metadata": {},
     "output_type": "display_data"
    }
   ],
   "source": [
    "alpha = sp.Rational(1, 2)\n",
    "varepsilon = 10**(-4)\n",
    "\n",
    "apriori = apriori_weight(alpha, varepsilon, x0, x1)\n",
    "display(apriori) "
   ]
  },
  {
   "cell_type": "markdown",
   "metadata": {},
   "source": [
    "Следовательно, для вычисления приближенного решения уравнения с точностью $\\varepsilon = 10^{-4}$, достаточно провести 17 итераций:"
   ]
  },
  {
   "cell_type": "code",
   "execution_count": 146,
   "metadata": {},
   "outputs": [
    {
     "data": {
      "text/latex": [
       "$$\\frac{5 t^{3}}{4} - \\frac{13 t^{2}}{12} + \\frac{5 t}{12} + \\frac{35}{36}$$"
      ],
      "text/plain": [
       "   3       2           \n",
       "5⋅t    13⋅t    5⋅t   35\n",
       "──── - ───── + ─── + ──\n",
       " 4       12     12   36"
      ]
     },
     "execution_count": 146,
     "metadata": {},
     "output_type": "execute_result"
    }
   ],
   "source": [
    "under_integral_expr = (t - s**2)*x_prev\n",
    "to_be_x1 = under_integral_expr.subs(x_prev, x1)\n",
    "(sp.Rational(1, 2) * sp.integrate(to_be_x1, (s, 0, 1)) + t**3 + 1)"
   ]
  },
  {
   "cell_type": "code",
   "execution_count": 159,
   "metadata": {},
   "outputs": [
    {
     "name": "stdout",
     "output_type": "stream",
     "text": [
      "-----\n"
     ]
    },
    {
     "data": {
      "text/latex": [
       "$$- s^{2} + t$$"
      ],
      "text/plain": [
       "   2    \n",
       "- s  + t"
      ]
     },
     "metadata": {},
     "output_type": "display_data"
    },
    {
     "data": {
      "text/latex": [
       "$$t - \\frac{1}{3}$$"
      ],
      "text/plain": [
       "t - 1/3"
      ]
     },
     "metadata": {},
     "output_type": "display_data"
    },
    {
     "name": "stdout",
     "output_type": "stream",
     "text": [
      "-----\n"
     ]
    },
    {
     "data": {
      "text/latex": [
       "$$\\left(- s^{2} + t\\right) \\left(t - \\frac{1}{3}\\right)$$"
      ],
      "text/plain": [
       "⎛   2    ⎞          \n",
       "⎝- s  + t⎠⋅(t - 1/3)"
      ]
     },
     "metadata": {},
     "output_type": "display_data"
    },
    {
     "data": {
      "text/latex": [
       "$$t^{2} - \\frac{2 t}{3} + \\frac{1}{9}$$"
      ],
      "text/plain": [
       " 2   2⋅t   1\n",
       "t  - ─── + ─\n",
       "      3    9"
      ]
     },
     "metadata": {},
     "output_type": "display_data"
    },
    {
     "name": "stdout",
     "output_type": "stream",
     "text": [
      "-----\n"
     ]
    },
    {
     "data": {
      "text/latex": [
       "$$\\left(- s^{2} + t\\right) \\left(t^{2} - \\frac{2 t}{3} + \\frac{1}{9}\\right)$$"
      ],
      "text/plain": [
       "⎛   2    ⎞ ⎛ 2   2⋅t   1⎞\n",
       "⎝- s  + t⎠⋅⎜t  - ─── + ─⎟\n",
       "           ⎝      3    9⎠"
      ]
     },
     "metadata": {},
     "output_type": "display_data"
    },
    {
     "data": {
      "text/latex": [
       "$$t^{3} - t^{2} + \\frac{t}{3} - \\frac{1}{27}$$"
      ],
      "text/plain": [
       " 3    2   t   1 \n",
       "t  - t  + ─ - ──\n",
       "          3   27"
      ]
     },
     "metadata": {},
     "output_type": "display_data"
    },
    {
     "name": "stdout",
     "output_type": "stream",
     "text": [
      "-----\n"
     ]
    },
    {
     "data": {
      "text/latex": [
       "$$\\left(- s^{2} + t\\right) \\left(t^{3} - t^{2} + \\frac{t}{3} - \\frac{1}{27}\\right)$$"
      ],
      "text/plain": [
       "⎛   2    ⎞ ⎛ 3    2   t   1 ⎞\n",
       "⎝- s  + t⎠⋅⎜t  - t  + ─ - ──⎟\n",
       "           ⎝          3   27⎠"
      ]
     },
     "metadata": {},
     "output_type": "display_data"
    },
    {
     "data": {
      "text/latex": [
       "$$t^{4} - \\frac{4 t^{3}}{3} + \\frac{2 t^{2}}{3} - \\frac{4 t}{27} + \\frac{1}{81}$$"
      ],
      "text/plain": [
       "        3      2           \n",
       " 4   4⋅t    2⋅t    4⋅t   1 \n",
       "t  - ──── + ──── - ─── + ──\n",
       "      3      3      27   81"
      ]
     },
     "metadata": {},
     "output_type": "display_data"
    },
    {
     "data": {
      "text/latex": [
       "$$t^{4} - \\frac{4 t^{3}}{3} + \\frac{2 t^{2}}{3} - \\frac{4 t}{27} + \\frac{1}{81}$$"
      ],
      "text/plain": [
       "        3      2           \n",
       " 4   4⋅t    2⋅t    4⋅t   1 \n",
       "t  - ──── + ──── - ─── + ──\n",
       "      3      3      27   81"
      ]
     },
     "metadata": {},
     "output_type": "display_data"
    }
   ],
   "source": [
    "from sympy.abc import t\n",
    "\n",
    "x_next = x0\n",
    "under_integral_expr = (t - s**2)*x_prev\n",
    "\n",
    "for i in range(1, 5):\n",
    "    x_old = x_next\n",
    "    to_be_x1 = under_integral_expr.subs(x_prev, x_old)\n",
    "    print(\"-----\")\n",
    "    display((to_be_x1))\n",
    "    display(sp.integrate(to_be_x1, (s, 0, 1)))\n",
    "    x_next = ( sp.integrate(to_be_x1, (s, 0, 1)))\n",
    "#     x_next = (sp.Rational(1, 2) * sp.integrate(to_be_x1, (s, 0, 1)) + t**3 + 1)\n",
    "#     x_next = (sp.Rational(1, 2) * sp.integrate(to_be_x1, (s, 0, 1)) - 2*t) \n",
    "    \n",
    "display(x_next)"
   ]
  },
  {
   "cell_type": "markdown",
   "metadata": {},
   "source": [
    "<i>C. Найдем точное решение и сравним его с приближенным.</i>"
   ]
  },
  {
   "cell_type": "code",
   "execution_count": 132,
   "metadata": {},
   "outputs": [
    {
     "data": {
      "text/latex": [
       "$$\\frac{c_{1} s^{2}}{2} + \\frac{c_{2}}{2} - s$$"
      ],
      "text/plain": [
       "    2         \n",
       "c₁⋅s    c₂    \n",
       "───── + ── - s\n",
       "  2     2     "
      ]
     },
     "metadata": {},
     "output_type": "display_data"
    },
    {
     "data": {
      "text/latex": [
       "$$\\frac{s^{2}}{2} \\left(c_{1} s^{2} + c_{2} - 2 s\\right)$$"
      ],
      "text/plain": [
       " 2 ⎛    2           ⎞\n",
       "s ⋅⎝c₁⋅s  + c₂ - 2⋅s⎠\n",
       "─────────────────────\n",
       "          2          "
      ]
     },
     "metadata": {},
     "output_type": "display_data"
    },
    {
     "data": {
      "text/latex": [
       "$$\\frac{c_{1}}{6} + \\frac{c_{2}}{2} - \\frac{1}{2}$$"
      ],
      "text/plain": [
       "c₁   c₂   1\n",
       "── + ── - ─\n",
       "6    2    2"
      ]
     },
     "metadata": {},
     "output_type": "display_data"
    },
    {
     "data": {
      "text/latex": [
       "$$\\frac{c_{1}}{10} + \\frac{c_{2}}{6} - \\frac{1}{4}$$"
      ],
      "text/plain": [
       "c₁   c₂   1\n",
       "── + ── - ─\n",
       "10   6    4"
      ]
     },
     "metadata": {},
     "output_type": "display_data"
    }
   ],
   "source": [
    "c1 = sp.Symbol('c1')\n",
    "c2 = sp.Symbol('c2')\n",
    "\n",
    "expr1 = sp.Rational(1, 2)*(-2*s + c1*s**2 + c2)\n",
    "expr2 = sp.Rational(1, 2)*(s**2)*(-2*s + c1*s**2 + c2)\n",
    "\n",
    "display(expr1)\n",
    "display(expr2)\n",
    "\n",
    "display(sp.integrate(expr1, (s, 0, 1)))\n",
    "display(sp.integrate(expr2, (s, 0, 1)))"
   ]
  },
  {
   "cell_type": "code",
   "execution_count": 153,
   "metadata": {},
   "outputs": [
    {
     "data": {
      "text/latex": [
       "$$t^{2} + 2$$"
      ],
      "text/plain": [
       " 2    \n",
       "t  + 2"
      ]
     },
     "execution_count": 153,
     "metadata": {},
     "output_type": "execute_result"
    }
   ],
   "source": [
    "a = sp.integrate(t**2 + 4*s, (s, 0, 1))\n",
    "sp.integrate(a, (s, 0, 1))"
   ]
  },
  {
   "cell_type": "code",
   "execution_count": null,
   "metadata": {},
   "outputs": [],
   "source": []
  },
  {
   "cell_type": "code",
   "execution_count": null,
   "metadata": {},
   "outputs": [],
   "source": []
  }
 ],
 "metadata": {
  "kernelspec": {
   "display_name": "Python 3",
   "language": "python",
   "name": "python3"
  },
  "language_info": {
   "codemirror_mode": {
    "name": "ipython",
    "version": 3
   },
   "file_extension": ".py",
   "mimetype": "text/x-python",
   "name": "python",
   "nbconvert_exporter": "python",
   "pygments_lexer": "ipython3",
   "version": "3.5.2"
  }
 },
 "nbformat": 4,
 "nbformat_minor": 2
}
