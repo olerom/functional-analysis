{
 "cells": [
  {
   "cell_type": "markdown",
   "metadata": {},
   "source": [
    "<strong>В пространстве $C[0; 1]$ дано интегральное уравнение Фредгольма с вырожденным ядром, содержащее числовой параметр $\\lambda > 0$.\n",
    "\n",
    "A. Определить, при каких значениях параметра $\\lambda$ к этому уравнению применим принцип сжимающих операторов.\n",
    "\n",
    "B. Взять любое подходящее значение $\\lambda$ и методом простых итераций найти приближенное решение этого уравнения\n",
    "с указанной точностью $\\varepsilon$, используя априорную оценку числа итераций.\n",
    "\n",
    "C. Найти точное решение этого уравнения и сравнить с приближенным. </strong>\n",
    "\n",
    "$x(t) = \\lambda \\int_0^1{\\mathrm{(t^2 + s^2)x(s)}\\,\\mathrm{d}s} - 2t, \\varepsilon = 10^{-4}$\n",
    "\n",
    "<i>A. Найдем значения параметра $\\lambda$, при которых к уравнению применим принцип сжимающих операторов.</i>\n",
    "\n",
    "Рассмотрим интегральный оператор \n",
    "$$Ф: C[0; 1] \\to C[0; 1], Ф[x] = \\lambda \\int_0^1{\\mathrm{(t^2 + s^2)x(s)}\\,\\mathrm{d}s} - 2t.$$\n",
    "\n",
    "Функция $K(t, s) = \\lambda (t^2 + s^2)$ – ядро интегрального оператора. Уравнение $x(t) = \\lambda \\int_0^1{\\mathrm{(t^2 + s^2)x(s)}\\,\\mathrm{d}s} - 2t$ имеет вид $Ф[x] = x$, его решение – неподвижная точка оператора $Ф$.\n",
    "Обратимся к достаточному признаку сжимающего оператора. При условии\n",
    "$$\\alpha = \\lambda \\max_{t \\in [0; 1]}{\\int_0^1{\\mathrm{|(t^2 + s^2)|}\\,\\mathrm{d}s}} < 1$$\n",
    "\n",
    "оператор $Ф$ сжимающий с коэффициентом сжатия $\\alpha$.\n",
    "\n",
    "Необходимо вычислить $\\int_0^1{\\mathrm{|(t^2 + s^2)|}\\,\\mathrm{d}s} = \\int_0^1{\\mathrm{(t^2 + s^2)}\\,\\mathrm{d}s}$."
   ]
  },
  {
   "cell_type": "code",
   "execution_count": 1,
   "metadata": {},
   "outputs": [
    {
     "data": {
      "text/latex": [
       "$$t^{2} + \\frac{1}{3}$$"
      ],
      "text/plain": [
       " 2   1\n",
       "t  + ─\n",
       "     3"
      ]
     },
     "execution_count": 1,
     "metadata": {},
     "output_type": "execute_result"
    }
   ],
   "source": [
    "import sympy as sp\n",
    "from IPython.display import *\n",
    "\n",
    "sp.init_printing(use_latex='mathjax')\n",
    "\n",
    "t = sp.Symbol('t')\n",
    "s = sp.Symbol('s')\n",
    "\n",
    "expr = t**2 + s**2\n",
    "sp.integrate(expr, (s, 0, 1))\n"
   ]
  },
  {
   "cell_type": "markdown",
   "metadata": {},
   "source": [
    "Находим максимум \n",
    "$$\\max_{t \\in [0; 1]}{(t^2 + \\frac{1}{3})} = \\frac{4}{3}$$\n",
    "\n",
    "Осталось выразить параметр $\\lambda$:\n",
    "$$\\alpha = \\lambda \\frac{4}{3} < 1$$\n",
    "\n",
    "Таким образом, при $\\lambda < \\frac{3}{4}$ к уравнению \n",
    "$x(t) = \\lambda \\int_0^1{\\mathrm{(t^2 + s^2)x(s)}\\,\\mathrm{d}s} - 2t$\n",
    "применим принцип сжимающих операторов: уравнение имеет единственное решение и можно использовать метод простых итераций для поиска приближенного решения.\n",
    "\n",
    "<i>B. Возьмем $\\lambda = \\frac{1}{2}$ и методом простых итераций найдем приближенное решение уравнения с точностью\n",
    "$\\varepsilon = 10^{-4}$ используя априорную оценку числа итераций.</i>\n",
    "\n",
    "Для произвольного начального приближения $x_0$ последовательность итераций задается рекуррентной формулой $x_n = Ф[x_{n - 1}]$. В данном случае\n",
    "\n",
    "$x_n(t) = \\frac{1}{2} \\int_0^1{\\mathrm{(t^2 + s^2)x_{n - 1}(s)}\\,\\mathrm{d}s} - 2t$\n",
    "\n",
    "Выбираем произвольным образом начальное приближение, например $x_0(t) = 1$, и вычисляем первую итерацию $x_1(t)$:"
   ]
  },
  {
   "cell_type": "code",
   "execution_count": 2,
   "metadata": {},
   "outputs": [
    {
     "data": {
      "text/latex": [
       "$$\\frac{t^{2}}{2} - 2 t + \\frac{1}{6}$$"
      ],
      "text/plain": [
       " 2          \n",
       "t          1\n",
       "── - 2⋅t + ─\n",
       "2          6"
      ]
     },
     "metadata": {},
     "output_type": "display_data"
    }
   ],
   "source": [
    "x_prev = sp.Symbol('x_{n - 1}')\n",
    "under_integral_expr = (t**2 + s**2)*x_prev\n",
    "\n",
    "x0 = 1\n",
    "to_be_x1 = under_integral_expr.subs(x_prev, x0)\n",
    "\n",
    "x1 = (sp.Rational(1, 2) * sp.integrate(to_be_x1, (s, 0, 1)) - 2*t)\n",
    "\n",
    "display(x1)"
   ]
  },
  {
   "cell_type": "markdown",
   "metadata": {},
   "source": [
    "Теперь найдем априорную оценку $N_{apr}$ числа итераций:"
   ]
  },
  {
   "cell_type": "code",
   "execution_count": 3,
   "metadata": {},
   "outputs": [],
   "source": [
    "import math\n",
    "from scipy.optimize import minimize_scalar\n",
    "import numpy as np\n",
    "\n",
    "def dist(x1, x0):\n",
    "    rho_func = sp.lambdify(t, sp.Abs(x1 - x0))\n",
    "    res = minimize_scalar(lambda x: -rho_func(x), bounds=[0,1], method='Bounded')\n",
    "    return sp.Abs(x1 - x0).subs(t, res.x)\n",
    "\n",
    "def is_enough(alp, x1, x0, eps): \n",
    "    return (alp/(1 - alp))*dist(x1, x0) <= eps\n",
    "\n",
    "def apriori_weight(alp, eps, x0, x1):\n",
    "    return (math.log(eps*(1 - alp)/dist(x0, x1), alp) + 1)"
   ]
  },
  {
   "cell_type": "code",
   "execution_count": 4,
   "metadata": {},
   "outputs": [
    {
     "data": {
      "text/latex": [
       "$$16.510101115282527$$"
      ],
      "text/plain": [
       "16.510101115282527"
      ]
     },
     "metadata": {},
     "output_type": "display_data"
    }
   ],
   "source": [
    "alpha = sp.Rational(1, 2)\n",
    "varepsilon = 10**(-4)\n",
    "\n",
    "apriori = apriori_weight(alpha, varepsilon, x0, x1)\n",
    "display(apriori) "
   ]
  },
  {
   "cell_type": "markdown",
   "metadata": {},
   "source": [
    "Следовательно, для вычисления приближенного решения уравнения с точностью $\\varepsilon = 10^{-4}$, достаточно провести 17 итераций:"
   ]
  },
  {
   "cell_type": "code",
   "execution_count": 5,
   "metadata": {},
   "outputs": [
    {
     "data": {
      "text/latex": [
       "$$- \\frac{56533585805663 t^{2}}{67260501562500} - 2 t - \\frac{20221629335392}{50445376171875}$$"
      ],
      "text/plain": [
       "                  2                       \n",
       "  56533585805663⋅t          20221629335392\n",
       "- ───────────────── - 2⋅t - ──────────────\n",
       "    67260501562500          50445376171875"
      ]
     },
     "metadata": {},
     "output_type": "display_data"
    }
   ],
   "source": [
    "x_next = x0\n",
    "under_integral_expr = (t**2 + s**2)*x_prev\n",
    "\n",
    "for i in range(17):\n",
    "    if (i != 0):\n",
    "        x_old = x_next.subs(t, s)\n",
    "    else:\n",
    "        x_old = x_next\n",
    "    to_be_x1 = under_integral_expr.subs(x_prev, x_old)\n",
    "    x_next = sp.Rational(1, 2) * sp.integrate(to_be_x1, (s, 0, 1)) - 2*t\n",
    "\n",
    "display(x_next)"
   ]
  },
  {
   "cell_type": "markdown",
   "metadata": {},
   "source": [
    "<i>C. Найдем точное решение и сравним его с приближенным.</i>\n",
    "\n",
    "Для интегрального уравнения Фредгольма с вырожденным ядром есть возможность найти точное решение.\n",
    "\n",
    "$$x(t) = - 2t + \\frac{1}{2} t^2 \\int_0^1{\\mathrm{x(s)}\\,\\mathrm{d}s} + \\frac{1}{2} \\int_0^1{\\mathrm{s^2 x(s)}\\,\\mathrm{d}s}$$\n",
    "\n",
    "Отсюда ясно, что решение имеет вид \n",
    "$$x(t) = -2t +c_1t^2 + c_2, c_1, c_2 \\in R$$\n",
    "$$c_1 = \\frac{1}{2} \\int_0^1{\\mathrm{x(s)}\\,\\mathrm{d}s}$$\n",
    "$$c_2 = \\frac{1}{2} \\int_0^1{\\mathrm{s^2 x(s)}\\,\\mathrm{d}s}$$\n",
    "\n",
    "Найдем значения коэффициентов $c_1$ и $c_2$:\n",
    "$$c_1 = \\frac{1}{2} \\int_0^1{\\mathrm{-2s +c_1s^2 + c_2}\\,\\mathrm{d}s}$$\n",
    "$$c_2 = \\frac{1}{2} \\int_0^1{\\mathrm{s^2 (-2s +c_1s^2 + c_2)}\\,\\mathrm{d}s}$$"
   ]
  },
  {
   "cell_type": "code",
   "execution_count": 6,
   "metadata": {},
   "outputs": [
    {
     "data": {
      "text/latex": [
       "$$- \\frac{5 c_{1}}{6} + \\frac{c_{2}}{2} - \\frac{1}{2}$$"
      ],
      "text/plain": [
       "  5⋅c₁   c₂   1\n",
       "- ──── + ── - ─\n",
       "   6     2    2"
      ]
     },
     "metadata": {},
     "output_type": "display_data"
    },
    {
     "data": {
      "text/latex": [
       "$$\\frac{c_{1}}{10} - \\frac{5 c_{2}}{6} - \\frac{1}{4}$$"
      ],
      "text/plain": [
       "c₁   5⋅c₂   1\n",
       "── - ──── - ─\n",
       "10    6     4"
      ]
     },
     "metadata": {},
     "output_type": "display_data"
    }
   ],
   "source": [
    "c1 = sp.Symbol('c1')\n",
    "c2 = sp.Symbol('c2')\n",
    "\n",
    "expr1 = sp.Rational(1, 2)*(-2*s + c1*s**2 + c2)\n",
    "expr2 = sp.Rational(1, 2)*(s**2)*(-2*s + c1*s**2 + c2)\n",
    "\n",
    "display(sp.integrate(expr1, (s, 0, 1)) - c1)\n",
    "display(sp.integrate(expr2, (s, 0, 1)) - c2)"
   ]
  },
  {
   "cell_type": "markdown",
   "metadata": {},
   "source": [
    "После вычисления интегралов необходимо решить систему двух линейных алгебраических уравнений с двумя неизвестными\n",
    "$$\\begin{cases} \n",
    "\\\\- \\frac{5 c_{1}}{6} + \\frac{c_{2}}{2} = \\frac{1}{2}\n",
    "\\\\ \\frac{c_{1}}{10} - \\frac{5 c_{2}}{6} = \\frac{1}{4}\n",
    "\\end{cases}$$"
   ]
  },
  {
   "cell_type": "code",
   "execution_count": 7,
   "metadata": {},
   "outputs": [
    {
     "data": {
      "text/plain": [
       "array([[-0.84051724],\n",
       "       [-0.40086207]])"
      ]
     },
     "metadata": {},
     "output_type": "display_data"
    }
   ],
   "source": [
    "import numpy as np\n",
    "\n",
    "a = np.array([[-5/6, 0.5],\n",
    "              [0.1, -5/6]])\n",
    "\n",
    "b = np.array([[0.5],\n",
    "              [0.25]])\n",
    "\n",
    "x_exact = np.linalg.solve(a, b)\n",
    "display(x_exact)"
   ]
  },
  {
   "cell_type": "markdown",
   "metadata": {},
   "source": [
    "Сравним точное решение уравнения с приближенным решением $x_{17}(t)$ в метрике пространства $C[0; 1]$:"
   ]
  },
  {
   "cell_type": "code",
   "execution_count": 8,
   "metadata": {},
   "outputs": [
    {
     "data": {
      "text/latex": [
       "$$\\mathrm{True}$$"
      ],
      "text/plain": [
       "True"
      ]
     },
     "execution_count": 8,
     "metadata": {},
     "output_type": "execute_result"
    }
   ],
   "source": [
    "exact = -2*t + x_exact[0][0]*t**2 + x_exact[1][0]\n",
    "dist(exact, x_next) < varepsilon"
   ]
  },
  {
   "cell_type": "markdown",
   "metadata": {},
   "source": [
    "Таким образом, приближенное решение обладает требуемой точностью."
   ]
  }
 ],
 "metadata": {
  "kernelspec": {
   "display_name": "Python 3",
   "language": "python",
   "name": "python3"
  },
  "language_info": {
   "codemirror_mode": {
    "name": "ipython",
    "version": 3
   },
   "file_extension": ".py",
   "mimetype": "text/x-python",
   "name": "python",
   "nbconvert_exporter": "python",
   "pygments_lexer": "ipython3",
   "version": "3.5.2"
  }
 },
 "nbformat": 4,
 "nbformat_minor": 2
}
