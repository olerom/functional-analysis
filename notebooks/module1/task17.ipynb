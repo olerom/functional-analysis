{
 "cells": [
  {
   "cell_type": "markdown",
   "metadata": {},
   "source": [
    "<strong>Доказать двумя способами, что оператор $Ф: C[a; b] \\to C[a; b]$ является сжимающим:\n",
    "A. по определению сжимающего оператора;\n",
    "B. по достаточному признаку сжимающего оператора.</strong>\n",
    "\n",
    "$Ф[x] = \\frac{1}{2 + x^2(t)} - \\sqrt{t}, [a; b] = [0; 1]$"
   ]
  },
  {
   "cell_type": "code",
   "execution_count": 3,
   "metadata": {},
   "outputs": [
    {
     "data": {
      "text/latex": [
       "$$- \\frac{2 u}{\\left(u^{2} + 2\\right)^{2}}$$"
      ],
      "text/plain": [
       "  -2⋅u   \n",
       "─────────\n",
       "        2\n",
       "⎛ 2    ⎞ \n",
       "⎝u  + 2⎠ "
      ]
     },
     "metadata": {},
     "output_type": "display_data"
    },
    {
     "data": {
      "text/latex": [
       "$$\\left [ 0\\right ]$$"
      ],
      "text/plain": [
       "[0]"
      ]
     },
     "metadata": {},
     "output_type": "display_data"
    },
    {
     "data": {
      "text/latex": [
       "$$- \\sqrt{t} + \\frac{1}{2}$$"
      ],
      "text/plain": [
       "-√t + 1/2"
      ]
     },
     "execution_count": 3,
     "metadata": {},
     "output_type": "execute_result"
    }
   ],
   "source": [
    "import sympy as sp\n",
    "from IPython.display import display\n",
    "\n",
    "sp.init_printing(use_latex='mathjax')\n",
    "\n",
    "t = sp.Symbol('t')\n",
    "u = sp.Symbol('u')\n",
    "\n",
    "expr = 1/(2 + u**2) - sp.sqrt(t)\n",
    "diffed_expr = expr.diff(u)\n",
    "display(diffed_expr)\n",
    "\n",
    "display(sp.solve(diffed_expr))\n",
    "\n",
    "expr.subs(u, 0)"
   ]
  },
  {
   "cell_type": "code",
   "execution_count": null,
   "metadata": {},
   "outputs": [],
   "source": []
  }
 ],
 "metadata": {
  "kernelspec": {
   "display_name": "Python 3",
   "language": "python",
   "name": "python3"
  },
  "language_info": {
   "codemirror_mode": {
    "name": "ipython",
    "version": 3
   },
   "file_extension": ".py",
   "mimetype": "text/x-python",
   "name": "python",
   "nbconvert_exporter": "python",
   "pygments_lexer": "ipython3",
   "version": "3.5.2"
  }
 },
 "nbformat": 4,
 "nbformat_minor": 2
}
