{
 "cells": [
  {
   "cell_type": "markdown",
   "metadata": {},
   "source": [
    "<strong>Доказать двумя способами, что оператор $Ф: C[a; b] \\to C[a; b]$ является сжимающим:\n",
    "A. по определению сжимающего оператора;\n",
    "B. по достаточному признаку сжимающего оператора.</strong>\n",
    "\n",
    "$Ф[x] = \\frac{1}{2 + x^2(t)} - \\sqrt{t}, [a; b] = [0; 1]$\n",
    "\n",
    "<i>A. Обратимся непосредственно к определению сжимающего оператора.</i>\n",
    "\n",
    "$\\rho_{C[0; 1}(Ф[x], Ф[y]) = \\max_{t \\in [0; 1]}{|Ф[x] - Ф[y]|} = \\max_{t \\in [0; 1]}|\\frac{1}{2 + x^2(t)} - \\frac{1}{y^2(t)}| = \\max_{t \\in [0; 1]}|\\frac{y^2(t) - x^2(t)}{(2 + x^2(t))(2 + y^2(t))}| = \\max_{t \\in [0; 1]}|y(t) - x(t)| \\max_{t \\in [0; 1]}|\\frac{y(t) + x(t)}{(2 + x^2(t))(2 + y^2(t))}| \\leq \\frac{2}{9}\n",
    "\\rho_{C[0; 1}(x, y)$\n",
    "\n",
    "Приходим к выводу, что оператор $Ф$ сжимающий с коэффициентом сжатия $\\alpha = \\frac{2}{9}$\n",
    "\n",
    "<i>B. Обратимся к достаточному признаку сжимающего оператора в пространстве непрерывных функций.</i>\n",
    "\n",
    "Обозначим $Ф[x] = \\varphi(t, |x(t)|)$, где $\\varphi(t, u) = \\frac{1}{2 + u^2} - \\sqrt{t}$.\n",
    "Очевидно, что функция двух переменных $\\varphi(t, u)$ непрерывна на множестве $[0; 1] \\times [0; \\infty)$, непрерывно дифференцируема по переменной $u$ причем при всех $(t, u) \\in [0; 1] \\times [0; \\infty)$ справедлива оценка:"
   ]
  },
  {
   "cell_type": "code",
   "execution_count": 20,
   "metadata": {},
   "outputs": [
    {
     "data": {
      "text/latex": [
       "$$2 \\left|{\\frac{u}{\\left(u^{2} + 2\\right)^{2}}}\\right|$$"
      ],
      "text/plain": [
       "  │    u    │\n",
       "2⋅│─────────│\n",
       "  │        2│\n",
       "  │⎛ 2    ⎞ │\n",
       "  │⎝u  + 2⎠ │"
      ]
     },
     "metadata": {},
     "output_type": "display_data"
    },
    {
     "data": {
      "text/latex": [
       "$$\\left [ - \\frac{\\sqrt{6}}{3}, \\quad \\frac{\\sqrt{6}}{3}\\right ]$$"
      ],
      "text/plain": [
       "⎡-√6   √6⎤\n",
       "⎢────, ──⎥\n",
       "⎣ 3    3 ⎦"
      ]
     },
     "metadata": {},
     "output_type": "display_data"
    },
    {
     "data": {
      "text/latex": [
       "$$0.229639663385923$$"
      ],
      "text/plain": [
       "0.229639663385923"
      ]
     },
     "metadata": {},
     "output_type": "display_data"
    },
    {
     "data": {
      "text/latex": [
       "$$\\frac{2}{9}$$"
      ],
      "text/plain": [
       "2/9"
      ]
     },
     "metadata": {},
     "output_type": "display_data"
    },
    {
     "data": {
      "image/png": "[encoded data removed]",
      "text/plain": [
       "<matplotlib.figure.Figure at 0x7f73c5064dd8>"
      ]
     },
     "metadata": {},
     "output_type": "display_data"
    },
    {
     "data": {
      "text/plain": [
       "<sympy.plotting.plot.Plot at 0x7f73e1658470>"
      ]
     },
     "execution_count": 20,
     "metadata": {},
     "output_type": "execute_result"
    }
   ],
   "source": [
    "import sympy as sp\n",
    "from IPython.display import display\n",
    "\n",
    "sp.init_printing(use_latex='mathjax')\n",
    "\n",
    "t = sp.Symbol('t')\n",
    "u = sp.Symbol('u')\n",
    "\n",
    "expr = 1/(2 + u**2) - sp.sqrt(t) \n",
    "\n",
    "diffed_expr = sp.Abs(expr.diff(u))\n",
    "display(diffed_expr)\n",
    "display(sp.solve(expr.diff(u).diff(u)))\n",
    "display(diffed_expr.subs(u, 6**(1/2)/ 3))\n",
    "display(diffed_expr.subs(u, 1))\n",
    "sp.plot(diffed_expr)"
   ]
  },
  {
   "cell_type": "markdown",
   "metadata": {},
   "source": [
    "$|\\varphi^{'}_u(t, u)| = 2 \\left|{\\frac{u}{\\left(u^{2} + 2\\right)^{2}}}\\right| \\leq \\frac{2}{9}$.\n",
    "\n",
    "Значит, оператор $Ф$ сжимающий с коэффициентом сжатия $\\varphi = fraq{2}{9}$."
   ]
  },
  {
   "cell_type": "code",
   "execution_count": null,
   "metadata": {},
   "outputs": [],
   "source": []
  }
 ],
 "metadata": {
  "kernelspec": {
   "display_name": "Python 3",
   "language": "python",
   "name": "python3"
  },
  "language_info": {
   "codemirror_mode": {
    "name": "ipython",
    "version": 3
   },
   "file_extension": ".py",
   "mimetype": "text/x-python",
   "name": "python",
   "nbconvert_exporter": "python",
   "pygments_lexer": "ipython3",
   "version": "3.5.2"
  }
 },
 "nbformat": 4,
 "nbformat_minor": 2
}
