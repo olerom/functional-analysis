{
 "cells": [
  {
   "cell_type": "markdown",
   "metadata": {},
   "source": [
    "<strong>Доказать двумя способами, что оператор $Ф: C[a; b] \\to C[a; b]$ является сжимающим:\n",
    "    \n",
    "A. по определению сжимающего оператора;\n",
    "\n",
    "B. по достаточному признаку сжимающего оператора.</strong>\n",
    "\n",
    "$Ф[x] = \\frac{1}{2 + x^2(t)} - \\sqrt{t}, [a; b] = [0; 1]$\n",
    "\n",
    "<i>A. Обратимся непосредственно к определению сжимающего оператора.</i>\n",
    "\n",
    "$\\rho_{C[0; 1]}(Ф[x], Ф[y]) = \\max_{t \\in [0; 1]}{|Ф[x] - Ф[y]|} = \\max_{t \\in [0; 1]}|\\frac{1}{2 + x^2(t)} - \\frac{1}{2 + y^2(t)}| = \\max_{t \\in [0; 1]}|\\frac{y^2(t) - x^2(t)}{(2 + x^2(t))(2 + y^2(t))}| = \\max_{t \\in [0; 1]}|y(t) - x(t)| \\max_{t \\in [0; 1]}|\\frac{y(t) + x(t)}{(2 + x^2(t))(2 + y^2(t))}| =  \\max_{t \\in [0; 1]}|\\frac{y(t) + x(t)}{(2 + x^2(t))(2 + y^2(t))}|\n",
    "\\rho_{C[0; 1]}(x, y)$\n",
    "\n",
    "Найдем $\\max_{t \\in [0; 1]}|\\frac{y(t) + x(t)}{(2 + x^2(t))(2 + y^2(t))}|$.\n",
    "Для этого рассмотрим функцию двух переменных $\\frac{y(t) + x(t)}{(2 + x^2(t))(2 + y^2(t))}$:"
   ]
  },
  {
   "cell_type": "code",
   "execution_count": 25,
   "metadata": {},
   "outputs": [
    {
     "data": {
      "text/latex": [
       "$$\\frac{a + b}{\\left(a^{2} + 2\\right) \\left(b^{2} + 2\\right)}$$"
      ],
      "text/plain": [
       "      a + b      \n",
       "─────────────────\n",
       "⎛ 2    ⎞ ⎛ 2    ⎞\n",
       "⎝a  + 2⎠⋅⎝b  + 2⎠"
      ]
     },
     "metadata": {},
     "output_type": "display_data"
    },
    {
     "data": {
      "text/latex": [
       "$$- \\frac{\\sqrt{6}}{3}$$"
      ],
      "text/plain": [
       "-√6 \n",
       "────\n",
       " 3  "
      ]
     },
     "metadata": {},
     "output_type": "display_data"
    },
    {
     "data": {
      "text/latex": [
       "$$\\frac{\\sqrt{6}}{3}$$"
      ],
      "text/plain": [
       "√6\n",
       "──\n",
       "3 "
      ]
     },
     "metadata": {},
     "output_type": "display_data"
    },
    {
     "data": {
      "text/latex": [
       "$$- \\frac{\\sqrt{6}}{3}$$"
      ],
      "text/plain": [
       "-√6 \n",
       "────\n",
       " 3  "
      ]
     },
     "metadata": {},
     "output_type": "display_data"
    },
    {
     "data": {
      "text/latex": [
       "$$\\frac{\\sqrt{6}}{3}$$"
      ],
      "text/plain": [
       "√6\n",
       "──\n",
       "3 "
      ]
     },
     "metadata": {},
     "output_type": "display_data"
    }
   ],
   "source": [
    "import sympy as sp\n",
    "from IPython.display import display\n",
    "\n",
    "sp.init_printing(use_latex='mathjax')\n",
    "\n",
    "a = sp.Symbol('a')\n",
    "b = sp.Symbol('b')\n",
    "expr = (a + b)/((2 + a**2)*(2 + b**2))\n",
    "display(expr)\n",
    "\n",
    "da = expr.diff(a)\n",
    "db = expr.diff(b)\n",
    "solve_da = sp.solve(da)\n",
    "b1 = sp.solve(db.subs(a, solve_da[0][a]))[0]\n",
    "b2 = sp.solve(db.subs(a, solve_da[1][a]))[0]\n",
    "a1 = solve_da[0][a].subs(b, b1)\n",
    "a2 = solve_da[1][a].subs(b, b2)\n",
    "\n",
    "display(a1)\n",
    "display(a2)\n",
    "display(b1)\n",
    "display(b2)"
   ]
  },
  {
   "cell_type": "markdown",
   "metadata": {},
   "source": [
    "Теперь найдем частные производные второго порядка:"
   ]
  },
  {
   "cell_type": "code",
   "execution_count": 9,
   "metadata": {},
   "outputs": [
    {
     "data": {
      "text/latex": [
       "$$\\frac{8 a^{2} \\left(a + b\\right)}{\\left(a^{2} + 2\\right)^{3} \\left(b^{2} + 2\\right)} - \\frac{4 a}{\\left(a^{2} + 2\\right)^{2} \\left(b^{2} + 2\\right)} - \\frac{2 \\left(a + b\\right)}{\\left(a^{2} + 2\\right)^{2} \\left(b^{2} + 2\\right)}$$"
      ],
      "text/plain": [
       "      2                                                     \n",
       "   8⋅a ⋅(a + b)             4⋅a               2⋅(a + b)     \n",
       "────────────────── - ────────────────── - ──────────────────\n",
       "        3                    2                    2         \n",
       "⎛ 2    ⎞  ⎛ 2    ⎞   ⎛ 2    ⎞  ⎛ 2    ⎞   ⎛ 2    ⎞  ⎛ 2    ⎞\n",
       "⎝a  + 2⎠ ⋅⎝b  + 2⎠   ⎝a  + 2⎠ ⋅⎝b  + 2⎠   ⎝a  + 2⎠ ⋅⎝b  + 2⎠"
      ]
     },
     "metadata": {},
     "output_type": "display_data"
    },
    {
     "data": {
      "text/latex": [
       "$$\\frac{8 b^{2} \\left(a + b\\right)}{\\left(a^{2} + 2\\right) \\left(b^{2} + 2\\right)^{3}} - \\frac{4 b}{\\left(a^{2} + 2\\right) \\left(b^{2} + 2\\right)^{2}} - \\frac{2 \\left(a + b\\right)}{\\left(a^{2} + 2\\right) \\left(b^{2} + 2\\right)^{2}}$$"
      ],
      "text/plain": [
       "      2                                                     \n",
       "   8⋅b ⋅(a + b)             4⋅b               2⋅(a + b)     \n",
       "────────────────── - ────────────────── - ──────────────────\n",
       "                 3                    2                    2\n",
       "⎛ 2    ⎞ ⎛ 2    ⎞    ⎛ 2    ⎞ ⎛ 2    ⎞    ⎛ 2    ⎞ ⎛ 2    ⎞ \n",
       "⎝a  + 2⎠⋅⎝b  + 2⎠    ⎝a  + 2⎠⋅⎝b  + 2⎠    ⎝a  + 2⎠⋅⎝b  + 2⎠ "
      ]
     },
     "metadata": {},
     "output_type": "display_data"
    },
    {
     "data": {
      "text/latex": [
       "$$\\frac{4 a b \\left(a + b\\right)}{\\left(a^{2} + 2\\right)^{2} \\left(b^{2} + 2\\right)^{2}} - \\frac{2 a}{\\left(a^{2} + 2\\right)^{2} \\left(b^{2} + 2\\right)} - \\frac{2 b}{\\left(a^{2} + 2\\right) \\left(b^{2} + 2\\right)^{2}}$$"
      ],
      "text/plain": [
       "   4⋅a⋅b⋅(a + b)             2⋅a                  2⋅b        \n",
       "─────────────────── - ────────────────── - ──────────────────\n",
       "        2         2           2                             2\n",
       "⎛ 2    ⎞  ⎛ 2    ⎞    ⎛ 2    ⎞  ⎛ 2    ⎞   ⎛ 2    ⎞ ⎛ 2    ⎞ \n",
       "⎝a  + 2⎠ ⋅⎝b  + 2⎠    ⎝a  + 2⎠ ⋅⎝b  + 2⎠   ⎝a  + 2⎠⋅⎝b  + 2⎠ "
      ]
     },
     "metadata": {},
     "output_type": "display_data"
    }
   ],
   "source": [
    "da2 = da.diff(a)\n",
    "db2 = db.diff(b)\n",
    "dab = da.diff(b)\n",
    "\n",
    "display(da2)\n",
    "display(db2)\n",
    "display(dab)"
   ]
  },
  {
   "cell_type": "markdown",
   "metadata": {},
   "source": [
    "Вычислим значение этих частных производных второго порядка в критических точках $M(x_0;y_0)$:"
   ]
  },
  {
   "cell_type": "code",
   "execution_count": 29,
   "metadata": {},
   "outputs": [
    {
     "data": {
      "text/latex": [
       "$$\\frac{729}{32768}$$"
      ],
      "text/plain": [
       " 729 \n",
       "─────\n",
       "32768"
      ]
     },
     "metadata": {},
     "output_type": "display_data"
    },
    {
     "data": {
      "text/latex": [
       "$$\\frac{9 \\sqrt{6}}{128}$$"
      ],
      "text/plain": [
       "9⋅√6\n",
       "────\n",
       "128 "
      ]
     },
     "metadata": {},
     "output_type": "display_data"
    },
    {
     "data": {
      "text/latex": [
       "$$\\frac{729}{32768}$$"
      ],
      "text/plain": [
       " 729 \n",
       "─────\n",
       "32768"
      ]
     },
     "metadata": {},
     "output_type": "display_data"
    },
    {
     "data": {
      "text/latex": [
       "$$- \\frac{9 \\sqrt{6}}{128}$$"
      ],
      "text/plain": [
       "-9⋅√6 \n",
       "──────\n",
       " 128  "
      ]
     },
     "metadata": {},
     "output_type": "display_data"
    }
   ],
   "source": [
    "# Первая точка\n",
    "r1 = da2.subs(a, a1).subs(b, b1)\n",
    "r2 = db2.subs(a, a1).subs(b, b1)\n",
    "r3 = dab.subs(a, a1).subs(b, b1)\n",
    "\n",
    "display(r1*r2 - r3**2)\n",
    "display(r1)\n",
    "# Первая точка\n",
    "r1 = da2.subs(a, a2).subs(b, b2)\n",
    "r2 = db2.subs(a, a2).subs(b, b2)\n",
    "r3 = dab.subs(a, a2).subs(b, b2)\n",
    "\n",
    "display(r1*r2 - r3**2)\n",
    "display(r1)"
   ]
  },
  {
   "cell_type": "markdown",
   "metadata": {},
   "source": [
    "Следовательно, $(\\frac{\\sqrt{6}}{3}; \\frac{\\sqrt{6}}{3})$ - точка максимума, а $(- \\frac{\\sqrt{6}}{3}; - \\frac{\\sqrt{6}}{3})$ - точка минимуму функции $\\frac{y(t) + x(t)}{(2 + x^2(t))(2 + y^2(t))}$."
   ]
  },
  {
   "cell_type": "markdown",
   "metadata": {},
   "source": [
    "Теперь уже рассмотрим максимум функции $|\\frac{y(t) + x(t)}{(2 + x^2(t))(2 + y^2(t))}|$: в точке $(\\frac{\\sqrt{6}}{3}; \\frac{\\sqrt{6}}{3})$"
   ]
  },
  {
   "cell_type": "code",
   "execution_count": 26,
   "metadata": {},
   "outputs": [
    {
     "data": {
      "text/latex": [
       "$$0.229639663385923$$"
      ],
      "text/plain": [
       "0.229639663385923"
      ]
     },
     "metadata": {},
     "output_type": "display_data"
    }
   ],
   "source": [
    "a_max = 6**(0.5)/3\n",
    "b_max = 6**(0.5)/3\n",
    "display(expr.subs(a, a_max).subs(b, b_max))"
   ]
  },
  {
   "cell_type": "markdown",
   "metadata": {},
   "source": [
    "$\\rho_{C[0; 1]}(Ф[x], Ф[y]) \\leq 0.229639663385923 \\rho_{C[0; 1]}(x, y)$\n",
    "\n",
    "Приходим к выводу, что оператор $Ф$ сжимающий с коэффициентом сжатия $\\alpha = 0.229639663385923$\n",
    "\n",
    "<i>B. Обратимся к достаточному признаку сжимающего оператора в пространстве непрерывных функций.</i>\n",
    "\n",
    "Обозначим $Ф[x] = \\varphi(t, x(t))$, где $\\varphi(t, u) = \\frac{1}{2 + u} - \\sqrt{t}$.\n",
    "Очевидно, что функция двух переменных $\\varphi(t, u)$ непрерывна на множестве $[0; 1] \\times [0; \\infty)$, непрерывно дифференцируема по переменной $u$ причем при всех $(t, u) \\in [0; 1] \\times [0; \\infty)$ справедлива оценка:"
   ]
  },
  {
   "cell_type": "code",
   "execution_count": 35,
   "metadata": {},
   "outputs": [
    {
     "data": {
      "text/latex": [
       "$$2 \\left|{\\frac{u}{\\left(u^{2} + 2\\right)^{2}}}\\right|$$"
      ],
      "text/plain": [
       "  │    u    │\n",
       "2⋅│─────────│\n",
       "  │        2│\n",
       "  │⎛ 2    ⎞ │\n",
       "  │⎝u  + 2⎠ │"
      ]
     },
     "metadata": {},
     "output_type": "display_data"
    },
    {
     "data": {
      "text/latex": [
       "$$\\left [ - \\frac{\\sqrt{6}}{3}, \\quad \\frac{\\sqrt{6}}{3}\\right ]$$"
      ],
      "text/plain": [
       "⎡-√6   √6⎤\n",
       "⎢────, ──⎥\n",
       "⎣ 3    3 ⎦"
      ]
     },
     "metadata": {},
     "output_type": "display_data"
    },
    {
     "data": {
      "text/latex": [
       "$$0.229639663385923$$"
      ],
      "text/plain": [
       "0.229639663385923"
      ]
     },
     "metadata": {},
     "output_type": "display_data"
    }
   ],
   "source": [
    "t = sp.Symbol('t')\n",
    "u = sp.Symbol('u')\n",
    "\n",
    "expr = 1/(2 + u**2) - sp.sqrt(t) \n",
    "\n",
    "diffed_expr = sp.Abs(expr.diff(u))\n",
    "display(diffed_expr)\n",
    "display(sp.solve(expr.diff(u).diff(u)))\n",
    "\n",
    "r1 = diffed_expr.subs(u, 6**(0.5)/3)\n",
    "display(r1)"
   ]
  },
  {
   "cell_type": "markdown",
   "metadata": {},
   "source": [
    "$|\\varphi^{'}_u(t, u)| = 2 \\left|{\\frac{u}{\\left(u^{2} + 2\\right)^{2}}}\\right| \\leq 0.229639663385923 < 1$.\n",
    "\n",
    "Значит, оператор $Ф$ сжимающий с коэффициентом сжатия $\\alpha = 0.229639663385923$."
   ]
  }
 ],
 "metadata": {
  "kernelspec": {
   "display_name": "Python 3",
   "language": "python",
   "name": "python3"
  },
  "language_info": {
   "codemirror_mode": {
    "name": "ipython",
    "version": 3
   },
   "file_extension": ".py",
   "mimetype": "text/x-python",
   "name": "python",
   "nbconvert_exporter": "python",
   "pygments_lexer": "ipython3",
   "version": "3.5.2"
  }
 },
 "nbformat": 4,
 "nbformat_minor": 2
}
