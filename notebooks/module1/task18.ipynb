{
 "cells": [
  {
   "cell_type": "markdown",
   "metadata": {},
   "source": [
    "<strong>Дано нелинейное уравнение в пространстве непрерывных функций $C[a; b]$.\n",
    "A. Используя принцип сжимающих операторов, доказать, что данное уравнение\n",
    "имеет единственное решение $x(t) \\in C[a; b]$.\n",
    "    \n",
    "B. Методом простых итераций найти приближенное решение этого уравнения с точностью $\\varepsilon = 0.01$, используя априорную оценку числа итераций. В качестве ответа предъявить график приближенного решения.</strong>\n",
    "\n",
    "$x(t) + 3\\sqrt[4]{1 + |x(t)|} = \\sqrt{t + 1}, [a; b] = [-1; 15]$\n",
    "\n",
    "<i>A. Используя принцип сжимающих операторов, докажем, что данное уравнение имеет единственное решение $x(t) \\in C[-1; 15]$</i>\n",
    "\n",
    "Представим уравнение следующим образом:\n",
    "\n",
    "$$x(t) = \\sqrt{t + 1} - 3\\sqrt[4]{1 + |x(t)|}$$\n",
    "\n",
    "Рассмотрим оператор \n",
    "$$Ф[x]: C[-1; 15] \\to C[-1; 15], Ф[x] = \\sqrt{t + 1} - 3\\sqrt[4]{1 + |x(t)|}.$$\n",
    "\n",
    "Уравнение $x(t) = \\sqrt{t + 1} - 3\\sqrt[4]{1 + |x(t)|}$ имеет вид $Ф[x] = x$, его решение – неподвижная точка оператора $Ф$.\n",
    "\n",
    "Докажем, что оператор $Ф$ сжимающий, используя достаточный признак. Обозначим $Ф[x] = \\varphi(t, |x(t)|)$, где $\\varphi(t, u) = \\sqrt{t + 1} - 3\\sqrt[4]{1 + u}$. Очевидно, что функция двух переменных $\\varphi(t, u)$ непрерывна на множестве $[-1; 15] \\times [0; +\\infty)$, непрерывно дифференцируема по переменной $u$, причем при всех $(t, u) \\in [-1; 15] \\times [0; +\\infty)$ справедлива оценка:\n",
    "$$|\\varphi^{'}(t, u)| = |- \\frac{0.75}{{(u + 1)}^{0.75}}| \\leq \\frac{3}{4} \\leq 1$$"
   ]
  },
  {
   "cell_type": "code",
   "execution_count": 1,
   "metadata": {},
   "outputs": [
    {
     "data": {
      "text/latex": [
       "$$- \\frac{0.75}{\\left(u + 1\\right)^{0.75}}$$"
      ],
      "text/plain": [
       "             -0.75\n",
       "-0.75⋅(u + 1)     "
      ]
     },
     "metadata": {},
     "output_type": "display_data"
    }
   ],
   "source": [
    "import sympy as sp\n",
    "from IPython.display import display\n",
    "\n",
    "sp.init_printing(use_latex='mathjax')\n",
    "\n",
    "t = sp.Symbol('t')\n",
    "u = sp.Symbol('u')\n",
    "\n",
    "expr = sp.sqrt(t + 1) - 3*(1 + u)**(1/4)\n",
    "diffed_expr = expr.diff(u)\n",
    "display(diffed_expr)"
   ]
  },
  {
   "cell_type": "markdown",
   "metadata": {},
   "source": [
    "Отсюда следует, что оператор $Ф$ сжимающий с коэффициентом сжатия $\\alpha = \\frac{3}{4}$.\n",
    "Согласно принципу сжимающих операторов $Ф$ имеет единственную неподвижную точку $x(t) \\in C[-1; 15]$, которая и является решением уравнения $x(t) = \\sqrt{t + 1} - 3\\sqrt[4]{1 + |x(t)|}$.\n",
    "\n",
    "<i>B. Методом простых итераций найдем приближенное решение уравнения $x(t) = \\sqrt{t + 1} - 3\\sqrt[4]{1 + |x(t)|}$ с точностью $\\varepsilon = 0.01$ и построим его график. Процесс вычислений организуем с помощью априорной оценки числа итераций.</i>\n",
    "\n",
    "Для произвольного начального приближения $x_0$ последовательность итераций задается рекуррентной формулой $x_n = Ф[x_{n - 1}]$. В данном случае\n",
    "$$x_n(t) = \\sqrt{t + 1} - 3\\sqrt[4]{1 + |x_{n - 1}(t)|}$$\n",
    "\n",
    "Выбираем произвольным образом начальное приближение, например $t_0 = -t^2$ и вычисляем первую итерацию."
   ]
  },
  {
   "cell_type": "code",
   "execution_count": 12,
   "metadata": {},
   "outputs": [
    {
     "data": {
      "text/latex": [
       "$$\\sqrt{t - 1} - 3 \\left(\\left|{x_{n-1}(t)}\\right| + 1\\right)^{0.25}$$"
      ],
      "text/plain": [
       "  _______                       0.25\n",
       "╲╱ t - 1  - 3⋅(│x_{n-1}(t)│ + 1)    "
      ]
     },
     "metadata": {},
     "output_type": "display_data"
    },
    {
     "data": {
      "text/latex": [
       "$$\\sqrt{t - 1} - 3 \\left(\\left|{t^{2}}\\right| + 1\\right)^{0.25}$$"
      ],
      "text/plain": [
       "                        0.25\n",
       "  _______     ⎛│ 2│    ⎞    \n",
       "╲╱ t - 1  - 3⋅⎝│t │ + 1⎠    "
      ]
     },
     "metadata": {},
     "output_type": "display_data"
    }
   ],
   "source": [
    "xn1 = sp.Symbol('x_{n-1}(t)')\n",
    "x = sp.sqrt(t - 1) - 3*(sp.Abs(xn1) + 1)**(1/4)\n",
    "display(x)\n",
    "\n",
    "t0 = -t**2\n",
    "t1 = sp.simplify(x.subs(xn1, t0))\n",
    "display(t1)"
   ]
  },
  {
   "cell_type": "markdown",
   "metadata": {},
   "source": [
    "$x_1(t) = \\sqrt{t - 1} - 3 \\left(\\left|{t^{2}}\\right| + 1\\right)^{0.25}$. Найдем априорную оценку $N_{apr}$"
   ]
  },
  {
   "cell_type": "code",
   "execution_count": 5,
   "metadata": {},
   "outputs": [],
   "source": [
    "import math\n",
    "from scipy.optimize import minimize_scalar\n",
    "import numpy as np\n",
    "\n",
    "def dist(x1, x0):\n",
    "    rho_func = sp.lambdify(t, sp.Abs(x1 - x0))\n",
    "    res = minimize_scalar(lambda x: -rho_func(x), bounds=[-1, 15], method='Bounded')\n",
    "    return sp.Abs(x1 - x0).subs(t, res.x)\n",
    "\n",
    "def is_enough(alp, x1, x0, eps):\n",
    "    return (alp/(1 - alp))*dist(x1, x0) <= eps\n",
    "\n",
    "def apriori_weight(alp, eps, x0, x1):\n",
    "    return (math.log(eps*(1 - alp)/dist(x0, x1), alp)) + 1"
   ]
  },
  {
   "cell_type": "code",
   "execution_count": 6,
   "metadata": {},
   "outputs": [
    {
     "data": {
      "text/latex": [
       "$$40.52928683500933$$"
      ],
      "text/plain": [
       "40.52928683500933"
      ]
     },
     "metadata": {},
     "output_type": "display_data"
    }
   ],
   "source": [
    "varepsilon = 0.01\n",
    "alpha = sp.Rational(3, 4)\n",
    "\n",
    "apriori = apriori_weight(alpha, varepsilon, t0, t1)\n",
    "display(apriori)"
   ]
  },
  {
   "cell_type": "markdown",
   "metadata": {},
   "source": [
    "Отсюда $N_{apr} = 41$. Следовательно, для вычисления приближенного решения с заданной точностью $\\varepsilon = 0.01$ достаточно провести 41 итерацию:"
   ]
  },
  {
   "cell_type": "code",
   "execution_count": 37,
   "metadata": {},
   "outputs": [
    {
     "data": {
      "image/png": "[encoded data removed]",
      "text/plain": [
       "<matplotlib.figure.Figure at 0x7fb96c75eba8>"
      ]
     },
     "metadata": {},
     "output_type": "display_data"
    },
    {
     "data": {
      "text/plain": [
       "<sympy.plotting.plot.Plot at 0x7fb96c762128>"
      ]
     },
     "execution_count": 37,
     "metadata": {},
     "output_type": "execute_result"
    }
   ],
   "source": [
    "t_curr = t0\n",
    "for i in range(41):\n",
    "    t_prev = t_curr\n",
    "    t_curr = x.subs(xn1, t_prev)\n",
    "\n",
    "sp.plot(t_curr, (t, -1, 15))"
   ]
  },
  {
   "cell_type": "markdown",
   "metadata": {},
   "source": [
    "Поскольку аналитическая запись функции $x_{41}(t)$ потребует слишком много места, то в качестве ответа построили ее график."
   ]
  }
 ],
 "metadata": {
  "kernelspec": {
   "display_name": "Python 3",
   "language": "python",
   "name": "python3"
  },
  "language_info": {
   "codemirror_mode": {
    "name": "ipython",
    "version": 3
   },
   "file_extension": ".py",
   "mimetype": "text/x-python",
   "name": "python",
   "nbconvert_exporter": "python",
   "pygments_lexer": "ipython3",
   "version": "3.5.2"
  }
 },
 "nbformat": 4,
 "nbformat_minor": 2
}
