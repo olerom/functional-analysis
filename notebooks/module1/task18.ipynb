{
 "cells": [
  {
   "cell_type": "markdown",
   "metadata": {},
   "source": [
    "<strong>Дано нелинейное уравнение в пространстве непрерывных функций $C[a; b]$.\n",
    "A. Используя принцип сжимающих операторов, доказать, что данное уравнение\n",
    "имеет единственное решение $x(t) \\in C[a; b]$.\n",
    "    \n",
    "B. Методом простых итераций найти приближенное решение этого уравнения с точностью $\\varepsilon = 0.01$, используя априорную оценку числа итераций. В качестве ответа предъявить график приближенного решения.</strong>\n",
    "\n",
    "$x(t) + 3\\sqrt[4]{1 + |x(t)|} = \\sqrt{t + 1}, [a; b] = [-1; 15]$\n",
    "\n",
    "<i>A. Используя принцип сжимающих операторов, докажем, что данное уравнение имеет единственное решение $x(t) \\in C[-1; 15]$</i>\n",
    "\n",
    "Представим уравнение следующим образом:\n",
    "\n",
    "$$x(t) = \\sqrt{t + 1} - 3\\sqrt[4]{1 + |x(t)|}$$\n",
    "\n",
    "Рассмотрим оператор \n",
    "$$Ф[x]: C[-1; 15] \\to C[-1; 15], Ф[x] = \\sqrt{t + 1} - 3\\sqrt[4]{1 + |x(t)|}.$$\n",
    "\n",
    "Уравнение $x(t) = \\sqrt{t + 1} - 3\\sqrt[4]{1 + |x(t)|}$ имеет вид $Ф[x] = x$, его решение – неподвижная точка оператора $Ф$.\n",
    "\n",
    "Докажем, что оператор $Ф$ сжимающий, используя достаточный признак. Обозначим $Ф[x] = \\varphi(t, |x(t)|)$, где $\\varphi(t, u) = \\sqrt{t + 1} - 3\\sqrt[4]{1 + u}$. Очевидно, что функция двух переменных $\\varphi(t, u)$ непрерывна на множестве $[-1; 15] \\times [0; +\\infty)$, непрерывно дифференцируема по переменной $u$, причем при всех $(t, u) \\in [-1; 15] \\times [0; +\\infty)$ справедлива оценка:\n",
    "$$|\\varphi^{'}(t, u)| = |- \\frac{0.75}{{(u + 1)}^{0.75}}| \\leq \\frac{3}{4} \\leq 1$$"
   ]
  },
  {
   "cell_type": "code",
   "execution_count": 14,
   "metadata": {},
   "outputs": [
    {
     "data": {
      "text/latex": [
       "$$- \\frac{0.75}{\\left(u + 1\\right)^{0.75}}$$"
      ],
      "text/plain": [
       "             -0.75\n",
       "-0.75⋅(u + 1)     "
      ]
     },
     "metadata": {},
     "output_type": "display_data"
    }
   ],
   "source": [
    "import sympy as sp\n",
    "from IPython.display import display\n",
    "\n",
    "sp.init_printing(use_latex='mathjax')\n",
    "\n",
    "t = sp.Symbol('t')\n",
    "u = sp.Symbol('u')\n",
    "\n",
    "expr = sp.sqrt(t + 1) - 3*(1 + u)**(1/4)\n",
    "diffed_expr = expr.diff(u)\n",
    "display(diffed_expr)"
   ]
  },
  {
   "cell_type": "markdown",
   "metadata": {},
   "source": [
    "Отсюда следует, что оператор $Ф$ сжимающий с коэффициентом сжатия $\\alpha = \\frac{3}{4}$.\n",
    "Согласно принципу сжимающих операторов $Ф$ имеет единственную неподвижную точку $x(t) \\in C[-1; 15]$, которая и является решением уравнения $x(t) = \\sqrt{t + 1} - 3\\sqrt[4]{1 + |x(t)|}$.\n",
    "\n",
    "<i>B. Методом простых итераций найдем приближенное решение уравнения $x(t) = \\sqrt{t + 1} - 3\\sqrt[4]{1 + |x(t)|}$ с точностью $\\varepsilon = 0.01$ и построим его график. Процесс вычислений организуем с помощью априорной оценки числа итераций.</i>\n",
    "\n",
    "Для произвольного начального приближения $x_0$ последовательность итераций задается рекуррентной формулой $x_n = Ф[x_{n - 1}]$. В данном случае\n",
    "$$x_n(t) = \\sqrt{t + 1} - 3\\sqrt[4]{1 + |x_{n - 1}(t)|}$$\n",
    "\n",
    "Выбираем произвольным образом начальное приближение, например $t_0 = -t^2$ и вычисляем первую итерацию."
   ]
  },
  {
   "cell_type": "code",
   "execution_count": 8,
   "metadata": {},
   "outputs": [
    {
     "data": {
      "text/latex": [
       "$$\\sqrt{t - 1} - 3 \\left(\\left|{x_{n-1}(t)}\\right| + 1\\right)^{0.25}$$"
      ],
      "text/plain": [
       "  _______                       0.25\n",
       "╲╱ t - 1  - 3⋅(│x_{n-1}(t)│ + 1)    "
      ]
     },
     "metadata": {},
     "output_type": "display_data"
    },
    {
     "data": {
      "text/latex": [
       "$$\\sqrt{t - 1} - 3 \\left(\\left|{t^{2}}\\right| + 1\\right)^{0.25}$$"
      ],
      "text/plain": [
       "                        0.25\n",
       "  _______     ⎛│ 2│    ⎞    \n",
       "╲╱ t - 1  - 3⋅⎝│t │ + 1⎠    "
      ]
     },
     "metadata": {},
     "output_type": "display_data"
    }
   ],
   "source": [
    "xn1 = sp.Symbol('x_{n-1}(t)')\n",
    "x = sp.sqrt(t - 1) - 3*(sp.Abs(xn1) + 1)**(1/4)\n",
    "display(x)\n",
    "\n",
    "t0 = -t**2\n",
    "t1 = sp.simplify(x.subs(xn1, t0))\n",
    "display(t1)"
   ]
  },
  {
   "cell_type": "markdown",
   "metadata": {},
   "source": [
    "$x_1(t) = \\sqrt{t - 1} - 3 \\left(\\left|{t^{2}}\\right| + 1\\right)^{0.25}$. Найдем априорную оценку $N_{apr}$"
   ]
  },
  {
   "cell_type": "code",
   "execution_count": 26,
   "metadata": {},
   "outputs": [],
   "source": [
    "import math\n",
    "# import scipy.optimize as scopt\n",
    "# from scipy import optimize\n",
    "\n",
    "def dist(x0, x1):\n",
    "    func = x0 - x1\n",
    "    display(func)\n",
    "    diffed_func = func.diff(t)\n",
    "    display(diffed_func)\n",
    "    solutions = sp.solve(diffed_fun)\n",
    "    displpay(solutions)\n",
    "    maxed = func.subs(t, -1)\n",
    "    display(maxed)\n",
    "    for i in solutions:\n",
    "        print(maxed = func.subs(t, i))\n",
    "#     solution = scopt.minimize_scalar(lambda x: -sp.lambdify(t, func), bounds=[0,1], method='bounded')\n",
    "#     dist = 0\n",
    "#     for i in np.nditer(calculated_vector):\n",
    "#         dist += i ** 2\n",
    "    print(solution)\n",
    "    return 100\n",
    "\n",
    "def is_enough(alp, x1, x0, eps):\n",
    "    return (alp/(1 - alp))*dist(x1, x0) <= eps\n",
    "\n",
    "def apriori_weight(alp, eps, x0, x1):\n",
    "    return (math.log(eps*(1 - alp)/dist(x0, x1), alp)) + 1"
   ]
  },
  {
   "cell_type": "code",
   "execution_count": 27,
   "metadata": {},
   "outputs": [
    {
     "data": {
      "text/latex": [
       "$$- t^{2} - \\sqrt{t - 1} + 3 \\left(\\left|{t^{2}}\\right| + 1\\right)^{0.25}$$"
      ],
      "text/plain": [
       "                               0.25\n",
       "   2     _______     ⎛│ 2│    ⎞    \n",
       "- t  - ╲╱ t - 1  + 3⋅⎝│t │ + 1⎠    "
      ]
     },
     "metadata": {},
     "output_type": "display_data"
    },
    {
     "data": {
      "text/latex": [
       "$$- 2 t + \\frac{0.75}{\\left(\\left|{t^{2}}\\right| + 1\\right)^{0.75} \\left|{t^{2}}\\right|} \\left(\\left(2 \\Re{\\left(t\\right)} \\frac{d}{d t} \\Re{\\left(t\\right)} - 2 \\Im{t} \\frac{d}{d t} \\Im{t}\\right) \\left(\\left(\\Re{\\left(t\\right)}\\right)^{2} - \\left(\\Im{t}\\right)^{2}\\right) + 2 \\left(2 \\Re{\\left(t\\right)} \\frac{d}{d t} \\Im{t} + 2 \\Im{t} \\frac{d}{d t} \\Re{\\left(t\\right)}\\right) \\Re{\\left(t\\right)} \\Im{t}\\right) - \\frac{1}{2 \\sqrt{t - 1}}$$"
      ],
      "text/plain": [
       "                                                                              \n",
       "            ⎛⎛        d                   d        ⎞ ⎛  2        2   ⎞     ⎛  \n",
       "       0.75⋅⎜⎜2⋅re(t)⋅──(re(t)) - 2⋅im(t)⋅──(im(t))⎟⋅⎝re (t) - im (t)⎠ + 2⋅⎜2⋅\n",
       "            ⎝⎝        dt                  dt       ⎠                       ⎝  \n",
       "-2⋅t + ───────────────────────────────────────────────────────────────────────\n",
       "                                                                         │ 2│ \n",
       "                                                                         │t │ \n",
       "\n",
       "                                                            -0.75             \n",
       "      d                   d        ⎞            ⎞ ⎛│ 2│    ⎞                  \n",
       "re(t)⋅──(im(t)) + 2⋅im(t)⋅──(re(t))⎟⋅re(t)⋅im(t)⎟⋅⎝│t │ + 1⎠                  \n",
       "      dt                  dt       ⎠            ⎠                        1    \n",
       "───────────────────────────────────────────────────────────────── - ──────────\n",
       "                                                                        ______\n",
       "                                                                    2⋅╲╱ t - 1\n",
       "\n",
       " \n",
       " \n",
       " \n",
       " \n",
       "─\n",
       "_\n",
       " "
      ]
     },
     "metadata": {},
     "output_type": "display_data"
    },
    {
     "ename": "NameError",
     "evalue": "name 'diffed_fun' is not defined",
     "output_type": "error",
     "traceback": [
      "\u001b[0;31m------------------------------------------------------------------------\u001b[0m",
      "\u001b[0;31mNameError\u001b[0m                              Traceback (most recent call last)",
      "\u001b[0;32m<ipython-input-27-468489d390cf>\u001b[0m in \u001b[0;36m<module>\u001b[0;34m()\u001b[0m\n\u001b[1;32m      2\u001b[0m \u001b[0malpha\u001b[0m \u001b[0;34m=\u001b[0m \u001b[0msp\u001b[0m\u001b[0;34m.\u001b[0m\u001b[0mRational\u001b[0m\u001b[0;34m(\u001b[0m\u001b[0;36m3\u001b[0m\u001b[0;34m,\u001b[0m \u001b[0;36m4\u001b[0m\u001b[0;34m)\u001b[0m\u001b[0;34m\u001b[0m\u001b[0m\n\u001b[1;32m      3\u001b[0m \u001b[0;34m\u001b[0m\u001b[0m\n\u001b[0;32m----> 4\u001b[0;31m \u001b[0mapriori\u001b[0m \u001b[0;34m=\u001b[0m \u001b[0mapriori_weight\u001b[0m\u001b[0;34m(\u001b[0m\u001b[0malpha\u001b[0m\u001b[0;34m,\u001b[0m \u001b[0mvarepsilon\u001b[0m\u001b[0;34m,\u001b[0m \u001b[0mt0\u001b[0m\u001b[0;34m,\u001b[0m \u001b[0mt1\u001b[0m\u001b[0;34m)\u001b[0m\u001b[0;34m\u001b[0m\u001b[0m\n\u001b[0m\u001b[1;32m      5\u001b[0m \u001b[0mdisplay\u001b[0m\u001b[0;34m(\u001b[0m\u001b[0mapriori\u001b[0m\u001b[0;34m)\u001b[0m\u001b[0;34m\u001b[0m\u001b[0m\n",
      "\u001b[0;32m<ipython-input-26-25f5fc9657cb>\u001b[0m in \u001b[0;36mapriori_weight\u001b[0;34m(alp, eps, x0, x1)\u001b[0m\n\u001b[1;32m     25\u001b[0m \u001b[0;34m\u001b[0m\u001b[0m\n\u001b[1;32m     26\u001b[0m \u001b[0;32mdef\u001b[0m \u001b[0mapriori_weight\u001b[0m\u001b[0;34m(\u001b[0m\u001b[0malp\u001b[0m\u001b[0;34m,\u001b[0m \u001b[0meps\u001b[0m\u001b[0;34m,\u001b[0m \u001b[0mx0\u001b[0m\u001b[0;34m,\u001b[0m \u001b[0mx1\u001b[0m\u001b[0;34m)\u001b[0m\u001b[0;34m:\u001b[0m\u001b[0;34m\u001b[0m\u001b[0m\n\u001b[0;32m---> 27\u001b[0;31m     \u001b[0;32mreturn\u001b[0m \u001b[0;34m(\u001b[0m\u001b[0mmath\u001b[0m\u001b[0;34m.\u001b[0m\u001b[0mlog\u001b[0m\u001b[0;34m(\u001b[0m\u001b[0meps\u001b[0m\u001b[0;34m*\u001b[0m\u001b[0;34m(\u001b[0m\u001b[0;36m1\u001b[0m \u001b[0;34m-\u001b[0m \u001b[0malp\u001b[0m\u001b[0;34m)\u001b[0m\u001b[0;34m/\u001b[0m\u001b[0mdist\u001b[0m\u001b[0;34m(\u001b[0m\u001b[0mx0\u001b[0m\u001b[0;34m,\u001b[0m \u001b[0mx1\u001b[0m\u001b[0;34m)\u001b[0m\u001b[0;34m,\u001b[0m \u001b[0malp\u001b[0m\u001b[0;34m)\u001b[0m\u001b[0;34m)\u001b[0m \u001b[0;34m+\u001b[0m \u001b[0;36m1\u001b[0m\u001b[0;34m\u001b[0m\u001b[0m\n\u001b[0m",
      "\u001b[0;32m<ipython-input-26-25f5fc9657cb>\u001b[0m in \u001b[0;36mdist\u001b[0;34m(x0, x1)\u001b[0m\n\u001b[1;32m      8\u001b[0m     \u001b[0mdiffed_func\u001b[0m \u001b[0;34m=\u001b[0m \u001b[0mfunc\u001b[0m\u001b[0;34m.\u001b[0m\u001b[0mdiff\u001b[0m\u001b[0;34m(\u001b[0m\u001b[0mt\u001b[0m\u001b[0;34m)\u001b[0m\u001b[0;34m\u001b[0m\u001b[0m\n\u001b[1;32m      9\u001b[0m     \u001b[0mdisplay\u001b[0m\u001b[0;34m(\u001b[0m\u001b[0mdiffed_func\u001b[0m\u001b[0;34m)\u001b[0m\u001b[0;34m\u001b[0m\u001b[0m\n\u001b[0;32m---> 10\u001b[0;31m     \u001b[0msolutions\u001b[0m \u001b[0;34m=\u001b[0m \u001b[0msp\u001b[0m\u001b[0;34m.\u001b[0m\u001b[0msolve\u001b[0m\u001b[0;34m(\u001b[0m\u001b[0mdiffed_fun\u001b[0m\u001b[0;34m)\u001b[0m\u001b[0;34m\u001b[0m\u001b[0m\n\u001b[0m\u001b[1;32m     11\u001b[0m     \u001b[0mdisplpay\u001b[0m\u001b[0;34m(\u001b[0m\u001b[0msolutions\u001b[0m\u001b[0;34m)\u001b[0m\u001b[0;34m\u001b[0m\u001b[0m\n\u001b[1;32m     12\u001b[0m     \u001b[0mmaxed\u001b[0m \u001b[0;34m=\u001b[0m \u001b[0mfunc\u001b[0m\u001b[0;34m.\u001b[0m\u001b[0msubs\u001b[0m\u001b[0;34m(\u001b[0m\u001b[0mt\u001b[0m\u001b[0;34m,\u001b[0m \u001b[0;34m-\u001b[0m\u001b[0;36m1\u001b[0m\u001b[0;34m)\u001b[0m\u001b[0;34m\u001b[0m\u001b[0m\n",
      "\u001b[0;31mNameError\u001b[0m: name 'diffed_fun' is not defined"
     ]
    }
   ],
   "source": [
    "varepsilon = 0.01\n",
    "alpha = sp.Rational(3, 4)\n",
    "\n",
    "apriori = apriori_weight(alpha, varepsilon, t0, t1)\n",
    "display(apriori)"
   ]
  },
  {
   "cell_type": "markdown",
   "metadata": {},
   "source": [
    "\n"
   ]
  },
  {
   "cell_type": "code",
   "execution_count": null,
   "metadata": {},
   "outputs": [],
   "source": []
  }
 ],
 "metadata": {
  "kernelspec": {
   "display_name": "Python 3",
   "language": "python",
   "name": "python3"
  },
  "language_info": {
   "codemirror_mode": {
    "name": "ipython",
    "version": 3
   },
   "file_extension": ".py",
   "mimetype": "text/x-python",
   "name": "python",
   "nbconvert_exporter": "python",
   "pygments_lexer": "ipython3",
   "version": "3.5.2"
  }
 },
 "nbformat": 4,
 "nbformat_minor": 2
}
