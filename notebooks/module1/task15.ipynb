{
 "cells": [
  {
   "cell_type": "markdown",
   "metadata": {},
   "source": [
    "<strong>Дано числовое уравнение, т.е. уравнение в одной вещественной неизвестной.\n",
    "    \n",
    "A. Преобразовать уравнение к виду, пригодному для применения принципа\n",
    "сжимающих операторов.\n",
    "\n",
    "B. Методом простых итераций найти приближенное решение с точностью $10^{-5}$, используя априорную и апостериорную оценки числа итераций.</strong>\n",
    "\n",
    "$x + \\frac{x}{x^{2} + 1} + \\sin{\\left (\\frac{x}{2} \\right )} = 5$\n",
    "\n",
    "<i>A. Преобразуем уравнение к виду, пригодному для применения принципа сжимающих\n",
    "операторов.</i>\n",
    "\n",
    "Обозначим $\\varphi(x) = x + \\frac{x}{x^{2} + 1} + \\sin{\\left (\\frac{x}{2} \\right )} - 5$, причем $\\varphi(x) = 0$. \n",
    "\n",
    "Вычислим $\\varphi^{'}(x)$:"
   ]
  },
  {
   "cell_type": "code",
   "execution_count": 82,
   "metadata": {},
   "outputs": [
    {
     "data": {
      "text/latex": [
       "$$- \\frac{2 x^{2}}{\\left(x^{2} + 1\\right)^{2}} + \\frac{1}{2} \\cos{\\left (\\frac{x}{2} \\right )} + 1 + \\frac{1}{x^{2} + 1}$$"
      ],
      "text/plain": [
       "                 ⎛x⎞             \n",
       "        2     cos⎜─⎟             \n",
       "     2⋅x         ⎝2⎠         1   \n",
       "- ───────── + ────── + 1 + ──────\n",
       "          2     2           2    \n",
       "  ⎛ 2    ⎞                 x  + 1\n",
       "  ⎝x  + 1⎠                       "
      ]
     },
     "metadata": {},
     "output_type": "display_data"
    }
   ],
   "source": [
    "import sympy as sp\n",
    "from IPython.display import display\n",
    "\n",
    "sp.init_printing(use_latex='mathjax')\n",
    "\n",
    "x = sp.Symbol('x')\n",
    "varphi = (x + sp.sin(x/2) + x/(1 + x**2) - 5) \n",
    "\n",
    "diffed_varphi = sp.diff(varphi, x)\n",
    "display(diffed_varphi) "
   ]
  },
  {
   "cell_type": "markdown",
   "metadata": {},
   "source": [
    "Поскольку \n",
    "$$- \\frac{1}{2} \\leq \\frac{1}{2} \\cos{\\left (\\frac{x}{2} \\right )} \\leq \\frac{1}{2},$$\n",
    "$$0 < \\frac{1}{x^{2} + 1} \\leq 1,$$\n",
    "$$- \\frac{1}{2} < - \\frac{2x^{2}}{(x^{2} + 1)^{2}} \\leq 0,$$\n",
    "то получаем оценку\n",
    "$$0 < \\nu \\leq \\varphi^{'}(x) \\leq \\mu,$$\n",
    "$$ \\nu = 0, \\mu = \\frac{5}{2}$$\n",
    "\n",
    "\n",
    "$$ \\nu = \\frac{1}{2}, \\mu = \\frac{5}{2}$$"
   ]
  },
  {
   "cell_type": "code",
   "execution_count": 55,
   "metadata": {},
   "outputs": [
    {
     "data": {
      "image/png": "[encoded data removed]",
      "text/plain": [
       "<matplotlib.figure.Figure at 0x7fefac6d9e10>"
      ]
     },
     "metadata": {},
     "output_type": "display_data"
    },
    {
     "data": {
      "text/plain": [
       "<sympy.plotting.plot.Plot at 0x7fefac6d9128>"
      ]
     },
     "metadata": {},
     "output_type": "display_data"
    }
   ],
   "source": [
    "research = (x**4 + 1)/(x**2 + 1)**2\n",
    "display(sp.plot(research))"
   ]
  },
  {
   "cell_type": "markdown",
   "metadata": {},
   "source": [
    "Преобразуем уравнение $\\varphi(x) = 0$ к виду $x - \\frac{1}{\\mu}\\varphi(x) = x$:\n",
    "$$x - \\frac{2}{5}(x + \\frac{x}{x^{2} + 1} + \\sin{\\left (\\frac{x}{2} \\right )} - 5) = x$$\n",
    "\n",
    "$\\alpha = 1 - \\frac{\\nu}{\\mu}$"
   ]
  },
  {
   "cell_type": "code",
   "execution_count": 78,
   "metadata": {},
   "outputs": [
    {
     "data": {
      "text/latex": [
       "$$\\frac{499993}{499995}$$"
      ],
      "text/plain": [
       "499993\n",
       "──────\n",
       "499995"
      ]
     },
     "metadata": {},
     "output_type": "display_data"
    }
   ],
   "source": [
    "# good one\n",
    "# nu = sp.Rational(-1, 2)\n",
    "nu = sp.Rational(1, 99999)\n",
    "mu = sp.Rational(5, 2)\n",
    "epsilon = 10**(-5)\n",
    "\n",
    "alpha = 1 - nu/mu\n",
    "\n",
    "display(alpha)"
   ]
  },
  {
   "cell_type": "markdown",
   "metadata": {},
   "source": [
    "Таким образом, нашли $\\alpha$.\n",
    "\n",
    "$$x_n = x_{n - 1} - \\frac{2}{5}(x_{n - 1} + \\frac{x_{n - 1}}{x_{n - 1}^{2} + 1} + \\sin{\\left (\\frac{x_{n - 1}}{2} \\right)} - 5)$$\n",
    "\n",
    "Выберем произвольным образом начальное приближение, например $x_0 = 6$, и вычисляем\n",
    "первую итерацию $x_1$:"
   ]
  },
  {
   "cell_type": "code",
   "execution_count": null,
   "metadata": {},
   "outputs": [],
   "source": [
    "import math\n",
    "\n",
    "def dist(x1, x0):\n",
    "    return math.fabs(x1 - x0)\n",
    "\n",
    "def is_enough(alp, x1, x0, eps): \n",
    "    return (alp/(1 - alp))*dist(x1, x0) <= eps\n",
    "\n",
    "def apriori_weight(alp, eps, x0, x1):\n",
    "    return (math.log(eps*(1 - alp)/dist(x0, x1), alp) + 1)"
   ]
  },
  {
   "cell_type": "code",
   "execution_count": 80,
   "metadata": {},
   "outputs": [
    {
     "data": {
      "text/latex": [
       "$$6372173.431033353$$"
      ],
      "text/plain": [
       "6372173.431033353"
      ]
     },
     "metadata": {},
     "output_type": "display_data"
    }
   ],
   "source": [
    "x_0 = 6.\n",
    "x_1 = varphi.subs(x, x_0)\n",
    "apriori = apriori_weight(alpha, epsilon, x_0, x_1)\n",
    "display(apriori)"
   ]
  },
  {
   "cell_type": "code",
   "execution_count": null,
   "metadata": {
    "scrolled": true
   },
   "outputs": [],
   "source": [
    "my_x = x_0\n",
    "i = 0\n",
    "while True:\n",
    "    i += 1\n",
    "    my_x_prev = my_x\n",
    "    my_x = varphi.subs(x, my_x_prev)\n",
    "    if is_enough(alpha, my_x, my_x_prev, epsilon):\n",
    "        break\n",
    "        \n",
    "display(i)\n",
    "display(my_x)"
   ]
  },
  {
   "cell_type": "code",
   "execution_count": null,
   "metadata": {},
   "outputs": [],
   "source": []
  }
 ],
 "metadata": {
  "kernelspec": {
   "display_name": "Python 3",
   "language": "python",
   "name": "python3"
  },
  "language_info": {
   "codemirror_mode": {
    "name": "ipython",
    "version": 3
   },
   "file_extension": ".py",
   "mimetype": "text/x-python",
   "name": "python",
   "nbconvert_exporter": "python",
   "pygments_lexer": "ipython3",
   "version": "3.5.2"
  }
 },
 "nbformat": 4,
 "nbformat_minor": 2
}
