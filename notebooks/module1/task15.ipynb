{
 "cells": [
  {
   "cell_type": "markdown",
   "metadata": {},
   "source": [
    "<strong>Дано числовое уравнение, т.е. уравнение в одной вещественной неизвестной.\n",
    "    \n",
    "A. Преобразовать уравнение к виду, пригодному для применения принципа\n",
    "сжимающих операторов.\n",
    "\n",
    "B. Методом простых итераций найти приближенное решение с точностью $10^{-5}$, используя априорную и апостериорную оценки числа итераций.</strong>\n",
    "\n",
    "$x + \\frac{x}{x^{2} + 1} + \\sin{\\left (\\frac{x}{2} \\right )} = 5$\n",
    "\n",
    "<i>A. Преобразуем уравнение к виду, пригодному для применения принципа сжимающих\n",
    "операторов.</i>\n",
    "\n",
    "Обозначим $\\varphi(x) = x + \\frac{x}{x^{2} + 1} + \\sin{\\left (\\frac{x}{2} \\right )} - 5$, причем $\\varphi(x) = 0$. \n",
    "\n",
    "Вычислим $\\varphi^{'}(x)$:"
   ]
  },
  {
   "cell_type": "code",
   "execution_count": 1,
   "metadata": {},
   "outputs": [
    {
     "data": {
      "text/latex": [
       "$$- \\frac{2 x^{2}}{\\left(x^{2} + 1\\right)^{2}} + \\frac{1}{2} \\cos{\\left (\\frac{x}{2} \\right )} + 1 + \\frac{1}{x^{2} + 1}$$"
      ],
      "text/plain": [
       "                 ⎛x⎞             \n",
       "        2     cos⎜─⎟             \n",
       "     2⋅x         ⎝2⎠         1   \n",
       "- ───────── + ────── + 1 + ──────\n",
       "          2     2           2    \n",
       "  ⎛ 2    ⎞                 x  + 1\n",
       "  ⎝x  + 1⎠                       "
      ]
     },
     "metadata": {},
     "output_type": "display_data"
    }
   ],
   "source": [
    "import sympy as sp\n",
    "from IPython.display import display, Latex\n",
    "\n",
    "sp.init_printing(use_latex='mathjax')\n",
    "\n",
    "x = sp.Symbol('x')\n",
    "varphi = (x + sp.sin(x/2) + x/(1 + x**2) - 5) \n",
    "\n",
    "diffed_varphi = sp.diff(varphi, x)\n",
    "display(diffed_varphi) "
   ]
  },
  {
   "cell_type": "markdown",
   "metadata": {},
   "source": [
    "Оценим функцию сверху:\n",
    "\n",
    "$$\\frac{1}{2} \\cos{\\left (\\frac{x}{2} \\right )} \\leq \\frac{1}{2}$$\n",
    "$$\\frac{1}{x^{2} + 1} \\leq 1$$\n",
    "$$1 - \\frac{2x^{2}}{(x^{2} + 1)^{2}} \\leq 1$$\n"
   ]
  },
  {
   "cell_type": "markdown",
   "metadata": {},
   "source": [
    "Найдем минимум функции, используя алгоритм, реализующий метод Нелдера — Мида:"
   ]
  },
  {
   "cell_type": "code",
   "execution_count": 2,
   "metadata": {},
   "outputs": [
    {
     "name": "stdout",
     "output_type": "stream",
     "text": [
      "Optimization terminated successfully.\n",
      "         Current function value: 0.476320\n",
      "         Iterations: 16\n",
      "         Function evaluations: 32\n"
     ]
    }
   ],
   "source": [
    "from scipy.optimize import fmin\n",
    "\n",
    "research = lambda t: diffed_varphi.subs(x, t)\n",
    "\n",
    "# Возьмем произвольну точку -5\n",
    "xmin0 = fmin(research, -5)"
   ]
  },
  {
   "cell_type": "markdown",
   "metadata": {},
   "source": [
    "Таким образом, \n",
    "$$0.476320 \\leq \\varphi^{'}(x) \\leq \\frac{5}{2}$$\n",
    "$$0 < \\nu \\leq \\varphi^{'}(x) \\leq \\mu$$\n",
    "$$ \\nu = 0.476320, \\mu = \\frac{5}{2}$$\n"
   ]
  },
  {
   "cell_type": "markdown",
   "metadata": {},
   "source": [
    "Преобразуем уравнение $\\varphi(x) = 0$ к виду $x - \\frac{1}{\\mu}\\varphi(x) = x$:\n",
    "$$x - \\frac{2}{5}(x + \\frac{x}{x^{2} + 1} + \\sin{\\left (\\frac{x}{2} \\right )} - 5) = x$$\n",
    "\n",
    "Рассмотрим оператор \n",
    "$$Ф: R \\to R, Ф[x] = x - \\frac{2}{5}(x + \\frac{x}{x^{2} + 1} + \\sin{\\left (\\frac{x}{2} \\right )} - 5)$$\n",
    "\n",
    "Это уравнение имеет вид $Ф[x] = x$, его решение – неподвижная точка оператора $Ф$. Оператор $Ф$ является сжимающим с коэффициентом сжатия\n",
    "$$\\alpha = 1 - \\frac{\\nu}{\\mu}$$"
   ]
  },
  {
   "cell_type": "code",
   "execution_count": 3,
   "metadata": {},
   "outputs": [
    {
     "data": {
      "text/latex": [
       "$$0.809472$$"
      ],
      "text/plain": [
       "0.809472000000000"
      ]
     },
     "metadata": {},
     "output_type": "display_data"
    }
   ],
   "source": [
    "nu = 0.476320\n",
    "mu = sp.Rational(5, 2)\n",
    "\n",
    "alpha = 1 - nu/mu\n",
    "epsilon = 10**(-5)\n",
    "\n",
    "display(alpha)"
   ]
  },
  {
   "cell_type": "markdown",
   "metadata": {},
   "source": [
    "Таким образом, нашли $\\alpha$.\n",
    "\n",
    "<i>B. Используя метод простых итераций, найдем приближенное решение уравнения с точностью $\\varepsilon = 10^5$. Процесс вычислений организуем с помощью априорной и апостериорной оценок числа итераций.</i>\n",
    "\n",
    "Для произвольного начального приближения $x_0$ последовательность итераций задается рекуррентной формулой $x_n = Ф[x_{n - 1}]$.В данном случае:\n",
    "\n",
    "$$x_n = x_{n - 1} - \\frac{2}{5}(x_{n - 1} + \\frac{x_{n - 1}}{x_{n - 1}^{2} + 1} + \\sin{\\left (\\frac{x_{n - 1}}{2} \\right)} - 5)$$\n",
    "\n",
    "\n",
    "Выберем произвольным образом начальное приближение, например $x_0 = 6$, и вычисляем\n",
    "первую итерацию $x_1$:"
   ]
  },
  {
   "cell_type": "code",
   "execution_count": 4,
   "metadata": {},
   "outputs": [],
   "source": [
    "import math\n",
    "\n",
    "def dist(x1, x0):\n",
    "    return math.fabs(x1 - x0)\n",
    "\n",
    "def is_enough(alp, x1, x0, eps): \n",
    "    return (alp/(1 - alp))*dist(x1, x0) <= eps\n",
    "\n",
    "def apriori_weight(alp, eps, x0, x1):\n",
    "    return round(math.log(eps*(1 - alp)/dist(x0, x1), alp) + 1)"
   ]
  },
  {
   "cell_type": "code",
   "execution_count": 5,
   "metadata": {},
   "outputs": [
    {
     "data": {
      "text/latex": [
       "Найдем априорную оценку числа итераций $N_{apr}$:"
      ],
      "text/plain": [
       "<IPython.core.display.Latex object>"
      ]
     },
     "metadata": {},
     "output_type": "display_data"
    },
    {
     "data": {
      "text/latex": [
       "$$60$$"
      ],
      "text/plain": [
       "60"
      ]
     },
     "metadata": {},
     "output_type": "display_data"
    },
    {
     "data": {
      "text/latex": [
       "Следовательно, для вычисления приближенного решения с требуемой точностью понадобится не более, чем 60 итераций"
      ],
      "text/plain": [
       "<IPython.core.display.Latex object>"
      ]
     },
     "metadata": {},
     "output_type": "display_data"
    }
   ],
   "source": [
    "f = x - 0.4*varphi\n",
    "\n",
    "x_0 = 6\n",
    "x_1 = f.subs(x, x_0)\n",
    "apriori = apriori_weight(alpha, epsilon, x_0, x_1)\n",
    "\n",
    "display(Latex(\"Найдем априорную оценку числа итераций $N_{apr}$:\"))\n",
    "display(apriori)\n",
    "display(Latex(\"Следовательно, для вычисления приближенного решения \" + \n",
    "              \"с требуемой точностью понадобится не более, чем \" + str(apriori) + \" итераций\"))"
   ]
  },
  {
   "cell_type": "code",
   "execution_count": 6,
   "metadata": {
    "scrolled": true
   },
   "outputs": [
    {
     "data": {
      "text/latex": [
       "В данном случае понадобилось всего 36 итераций"
      ],
      "text/plain": [
       "<IPython.core.display.Latex object>"
      ]
     },
     "metadata": {},
     "output_type": "display_data"
    },
    {
     "data": {
      "text/latex": [
       "Получено приближенное решение x_36 = 3.80971864220444"
      ],
      "text/plain": [
       "<IPython.core.display.Latex object>"
      ]
     },
     "metadata": {},
     "output_type": "display_data"
    }
   ],
   "source": [
    "x_curr = x_0\n",
    "i = 0\n",
    "while True:\n",
    "    i += 1\n",
    "    x_prev = x_curr\n",
    "    x_curr = sp.N(f.subs(x, x_prev))\n",
    "    if is_enough(alpha, x_prev, x_curr, epsilon):\n",
    "        break\n",
    "        \n",
    "display(Latex(\"В данном случае понадобилось всего \" + str(i) + \" итераций\"))\n",
    "display(Latex(\"Получено приближенное решение x_\" + str(i) + \" = \" + str(x_curr)))"
   ]
  },
  {
   "cell_type": "markdown",
   "metadata": {},
   "source": [
    "Как видно, априорная оценка числа итераций сильно завышена. "
   ]
  }
 ],
 "metadata": {
  "kernelspec": {
   "display_name": "Python 3",
   "language": "python",
   "name": "python3"
  },
  "language_info": {
   "codemirror_mode": {
    "name": "ipython",
    "version": 3
   },
   "file_extension": ".py",
   "mimetype": "text/x-python",
   "name": "python",
   "nbconvert_exporter": "python",
   "pygments_lexer": "ipython3",
   "version": "3.5.2"
  }
 },
 "nbformat": 4,
 "nbformat_minor": 2
}
