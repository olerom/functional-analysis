{
 "cells": [
  {
   "cell_type": "markdown",
   "metadata": {},
   "source": [
    "<strong>Дана система линейных алгебраических уравнений с четырьмя неизвестными.\n",
    "    \n",
    "A. Преобразовать систему к виду, пригодному для применения принципа сжимающих операторов.\n",
    "\n",
    "B. Методом простых итераций найти приближенные решения с точностью $10^{-2}$ и с точностью $10^{-4}$, используя априорную и апостериорную оценки числа итераций.\n",
    "\n",
    "C. Найти точное решение системы и сравнить с приближенными.</strong>\n",
    "\n",
    "Запишем систему в матричной форме $Αx = b$\n"
   ]
  },
  {
   "cell_type": "code",
   "execution_count": 1,
   "metadata": {},
   "outputs": [
    {
     "data": {
      "text/latex": [
       "$$308.0$$"
      ],
      "text/plain": [
       "308.0"
      ]
     },
     "execution_count": 1,
     "metadata": {},
     "output_type": "execute_result"
    }
   ],
   "source": [
    "import numpy as np\n",
    "import sympy as sp \n",
    "from IPython.display import display\n",
    "\n",
    "sp.init_printing(use_latex='mathjax')\n",
    "\n",
    "a = np.array([[7., 7., -7., -2.],\n",
    "              [3., 4., 5., 8.],\n",
    "              [2., 2., 2., 1.],\n",
    "              [2., 0., -2., -1.]])\n",
    "\n",
    "b = np.array([[5.],\n",
    "              [60.], \n",
    "              [27.], \n",
    "              [-1.]])\n",
    "\n",
    "np.linalg.det(a)"
   ]
  },
  {
   "cell_type": "markdown",
   "metadata": {},
   "source": [
    "Поскольку $det(A) = 308 \\neq 0$, то система $Ax = b$ имеет единственное решение.\n",
    "\n",
    "<i>A. Преобразуем систему $Ax = b$ к виду, пригодному для применения принципа сжимающих операторов.</i>\n",
    "\n"
   ]
  },
  {
   "cell_type": "code",
   "execution_count": 2,
   "metadata": {},
   "outputs": [
    {
     "data": {
      "text/latex": [
       "$$158.086803063$$"
      ],
      "text/plain": [
       "158.086803063"
      ]
     },
     "metadata": {},
     "output_type": "display_data"
    }
   ],
   "source": [
    "eigenvalues = np.linalg.eigvals(np.dot(a.transpose(), a))\n",
    "lambda_0 = np.amax(eigenvalues)\n",
    "display(lambda_0)"
   ]
  },
  {
   "cell_type": "markdown",
   "metadata": {},
   "source": [
    "Вычислили $\\lambda(A^TA)$ - максимальное собственное число матрицы $A^TA$."
   ]
  },
  {
   "cell_type": "code",
   "execution_count": 3,
   "metadata": {},
   "outputs": [
    {
     "data": {
      "text/latex": [
       "$$0.98884670963$$"
      ],
      "text/plain": [
       "0.98884670963"
      ]
     },
     "metadata": {},
     "output_type": "display_data"
    }
   ],
   "source": [
    "i_matrix = np.array([[1., 0., 0., 0.],\n",
    "              [0., 1., 0., 0.],\n",
    "              [0., 0., 1., 0.],\n",
    "              [0., 0., 0., 1.]])\n",
    "\n",
    "c = np.subtract(i_matrix, (np.dot(a.transpose(), a)/lambda_0))\n",
    "d = np.dot(a.transpose(), b)/lambda_0\n",
    "\n",
    "lambda_1 = np.amax(np.linalg.eigvals(c))\n",
    "display(lambda_1)"
   ]
  },
  {
   "cell_type": "markdown",
   "metadata": {},
   "source": [
    "Вычислили $\\lambda(C)$ - максимальное собственное число матрицы $C = I - \\frac{A^TA}{\\lambda(A^TA)}$.\n",
    "\n",
    "<i>B. Методом простых итераций найдем приближенные решения системы $Cx + d = x$ с точностью $\\varepsilon = 10^{-2}$ и $\\varepsilon = 10^{-4}$, используя априорную и апостериорную оценки числа итераций.</i>"
   ]
  },
  {
   "cell_type": "code",
   "execution_count": 4,
   "metadata": {},
   "outputs": [],
   "source": [
    "import math\n",
    "\n",
    "def dist(x1, x0):\n",
    "    calculated_vector = np.subtract(x1, x0)\n",
    "    dist = 0\n",
    "    for i in np.nditer(calculated_vector):\n",
    "        dist += i ** 2\n",
    "    return math.sqrt(dist)\n",
    "\n",
    "def is_enough(alp, x1, x0, eps):\n",
    "    return (alp/(1 - alp))*dist(x1, x0) <= eps\n",
    "\n",
    "def apriori_weight(alp, eps, x0, x1):\n",
    "    return (math.log(eps*(1 - alp)/dist(x0, x1), alp)) + 1"
   ]
  },
  {
   "cell_type": "code",
   "execution_count": 5,
   "metadata": {},
   "outputs": [
    {
     "data": {
      "text/plain": [
       "array([[ 2.],\n",
       "       [-1.],\n",
       "       [ 3.],\n",
       "       [ 0.]])"
      ]
     },
     "metadata": {},
     "output_type": "display_data"
    }
   ],
   "source": [
    "alpha = lambda_1\n",
    "epsilon_1 = 10**(-2) \n",
    "\n",
    "x_0 = np.array([[2.], \n",
    "              [-1.], \n",
    "              [3.], \n",
    "              [0.]])\n",
    "display(x_0)"
   ]
  },
  {
   "cell_type": "markdown",
   "metadata": {},
   "source": [
    "Взяли произвольным образом начальное приближение $x_0$.\n",
    "\n",
    "Найдем априорную оценку числа итераций $N_{apr}$ при $\\varepsilon = 10^{-2}$"
   ]
  },
  {
   "cell_type": "code",
   "execution_count": 6,
   "metadata": {},
   "outputs": [
    {
     "data": {
      "text/latex": [
       "$$927.1854835169232$$"
      ],
      "text/plain": [
       "927.1854835169232"
      ]
     },
     "metadata": {},
     "output_type": "display_data"
    }
   ],
   "source": [
    "x_1 = np.dot(c, x_0) + d\n",
    "display(apriori_weight(alpha, epsilon_1, x_0, x_1))"
   ]
  },
  {
   "cell_type": "markdown",
   "metadata": {},
   "source": [
    "Следовательно, $N_{apr} = 927$ при $\\varepsilon = 10^{-2}$"
   ]
  },
  {
   "cell_type": "code",
   "execution_count": 7,
   "metadata": {},
   "outputs": [
    {
     "data": {
      "text/latex": [
       "$$450$$"
      ],
      "text/plain": [
       "450"
      ]
     },
     "metadata": {},
     "output_type": "display_data"
    },
    {
     "data": {
      "text/plain": [
       "array([[ 5.99283718],\n",
       "       [ 1.00669114],\n",
       "       [ 5.99920192],\n",
       "       [ 0.99977721]])"
      ]
     },
     "metadata": {},
     "output_type": "display_data"
    }
   ],
   "source": [
    "x_f = x_0\n",
    "i = 0\n",
    "while True:\n",
    "    i += 1\n",
    "    x_f_prev = x_f\n",
    "    x_f = np.dot(c, x_f) + d\n",
    "    if is_enough(alpha, x_f, x_f_prev, epsilon_1):\n",
    "        break\n",
    "display(i)\n",
    "display(x_f)"
   ]
  },
  {
   "cell_type": "markdown",
   "metadata": {},
   "source": [
    "Фактически же понадобилось 450 итерации и получили приближенное решение."
   ]
  },
  {
   "cell_type": "code",
   "execution_count": 8,
   "metadata": {},
   "outputs": [
    {
     "data": {
      "text/latex": [
       "$$1337.7764954024437$$"
      ],
      "text/plain": [
       "1337.7764954024437"
      ]
     },
     "metadata": {},
     "output_type": "display_data"
    }
   ],
   "source": [
    "epsilon_2 = 10**(-4)\n",
    "x_1 = np.dot(c, x_0) + d\n",
    "display(apriori_weight(alpha, epsilon_2, x_0, x_1))"
   ]
  },
  {
   "cell_type": "markdown",
   "metadata": {},
   "source": [
    "Следовательно, $N_{apr} = 1337$ при $\\varepsilon = 10^{-4}$"
   ]
  },
  {
   "cell_type": "code",
   "execution_count": 9,
   "metadata": {},
   "outputs": [
    {
     "data": {
      "text/latex": [
       "$$859$$"
      ],
      "text/plain": [
       "859"
      ]
     },
     "metadata": {},
     "output_type": "display_data"
    },
    {
     "data": {
      "text/plain": [
       "array([[ 5.99992984],\n",
       "       [ 1.00007001],\n",
       "       [ 5.99999863],\n",
       "       [ 0.99999094]])"
      ]
     },
     "metadata": {},
     "output_type": "display_data"
    }
   ],
   "source": [
    "x_s = x_0\n",
    "i = 0\n",
    "while True:\n",
    "    i += 1\n",
    "    x_s_prev = x_s\n",
    "    x_s = np.dot(c, x_s) + d\n",
    "    if is_enough(alpha, x_s, x_s_prev, epsilon_2):\n",
    "        break\n",
    "display(i)\n",
    "display(x_s)"
   ]
  },
  {
   "cell_type": "markdown",
   "metadata": {},
   "source": [
    "Фактически же понадобилось 859 итерации и получили приближенное решение.\n",
    "\n",
    "<i>C. Найдем точное решение системы $Ax = b$ и сравним его с приближенными. </i>"
   ]
  },
  {
   "cell_type": "code",
   "execution_count": 10,
   "metadata": {},
   "outputs": [],
   "source": [
    "x_exact = np.linalg.solve(a, b)"
   ]
  },
  {
   "cell_type": "markdown",
   "metadata": {},
   "source": [
    "После нахождения точного решения системы, сравним точное решение с приближенными в евклидовой метрике $\\rho_2$ пространства $R^{4}$:"
   ]
  },
  {
   "cell_type": "code",
   "execution_count": 11,
   "metadata": {},
   "outputs": [
    {
     "data": {
      "text/plain": [
       "True"
      ]
     },
     "execution_count": 11,
     "metadata": {},
     "output_type": "execute_result"
    }
   ],
   "source": [
    "dist(x_exact, x_f) < epsilon_1"
   ]
  },
  {
   "cell_type": "code",
   "execution_count": 12,
   "metadata": {},
   "outputs": [
    {
     "data": {
      "text/plain": [
       "True"
      ]
     },
     "execution_count": 12,
     "metadata": {},
     "output_type": "execute_result"
    }
   ],
   "source": [
    "dist(x_exact, x_s) < epsilon_2"
   ]
  },
  {
   "cell_type": "markdown",
   "metadata": {},
   "source": [
    "Таким образом, точность приближенных решений соответствует поставленной задаче."
   ]
  }
 ],
 "metadata": {
  "kernelspec": {
   "display_name": "Python 3",
   "language": "python",
   "name": "python3"
  },
  "language_info": {
   "codemirror_mode": {
    "name": "ipython",
    "version": 3
   },
   "file_extension": ".py",
   "mimetype": "text/x-python",
   "name": "python",
   "nbconvert_exporter": "python",
   "pygments_lexer": "ipython3",
   "version": "3.5.2"
  }
 },
 "nbformat": 4,
 "nbformat_minor": 2
}
