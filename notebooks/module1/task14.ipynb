{
 "cells": [
  {
   "cell_type": "markdown",
   "metadata": {},
   "source": [
    "<strong>Для функциональной последовательности $x_n(t)$ и функции $x(t)$ проверить\n",
    "наличие равномерной и среднеквадратичной сходимости $x_n \\to x$ на промежутке $[a;b]$. Проиллюстрировать выводы графически (для построения графиков можно использовать математические пакеты). <font color='red'>(3 балла за каждый пункт)</font></strong>\n",
    "\n",
    "a) $x_n(t) = \\frac{nt\\sqrt{t}}{exp(nt^2)}, x(t) = 0, [a; b] = [0; 3]$\n",
    "\n",
    "Как указано в §3 конспекта лекций, под равномерной сходимостью понимают сходимость в пространстве $C[a;b]$. Среднеквадратичной сходимостью называют сходимость в пространстве $L^2(a; b)$.Причем равномерная сходимость – более сильное свойство, чем среднеквадратиtчная, иными словами, при наличии равномерной сходимости имеется и среднеквадратичная: \n",
    "$x_n \\to x$ в $C[a; b] \\Rightarrow x_n \\to x$ в $L^2(a; b)$\n",
    "\n",
    "Если равномерной сходимости нет, то может быть более слабая – среднеквадратичная. Для данных задачи проверим сначала, имеется ли равномерная сходимость. Вычислим\n",
    "расстояние между функциями $x_n(t)$ и $x(t) = 0$ в пространстве $C[0; 3]$:\n",
    "$$\\rho_{C[0;3]}(x_n, 0) = \\max_{t \\in [0; 3]}|x_n(t) - 0| = \\max_{t \\in [0; 3]}(\\frac{nt\\sqrt{t}}{exp(nt^2)})$$\n",
    "\n",
    "Найдем наибольшее значение функции $\\varphi = \\frac{nt\\sqrt{t}}{exp(nt^2)}$ на отрезке $[0; 3]$. Как известно,\n",
    "наибольшее значение непрерывной функции следует искать среди ее значений на концах отрезка и локальных экстремумов внутри отрезка.\n",
    "\n",
    "Вычисляем $\\varphi^{'}(t)$:"
   ]
  },
  {
   "cell_type": "code",
   "execution_count": 1,
   "metadata": {},
   "outputs": [
    {
     "data": {
      "text/latex": [
       "$$\\frac{n \\sqrt{t}}{2} \\left(- 4 n t^{2} + 3\\right) e^{- n t^{2}}$$"
      ],
      "text/plain": [
       "                         2\n",
       "     ⎛       2    ⎞  -n⋅t \n",
       "n⋅√t⋅⎝- 4⋅n⋅t  + 3⎠⋅ℯ     \n",
       "──────────────────────────\n",
       "            2             "
      ]
     },
     "metadata": {},
     "output_type": "display_data"
    }
   ],
   "source": [
    "from sympy import *\n",
    "from IPython.display import *\n",
    "\n",
    "init_printing(use_latex='mathjax')\n",
    "n = Symbol('n')\n",
    "t = Symbol('t')\n",
    "varphi = ((n*t*sqrt(t))/(exp(n*t**2)))\n",
    "diffed_varphi = simplify(diff(varphi, t))\n",
    "\n",
    "display(diffed_varphi)"
   ]
  },
  {
   "cell_type": "markdown",
   "metadata": {},
   "source": [
    "Из условия $\\varphi^{'}(t) = 0, t \\in (0; 3)$, находим точку, в которой может быть локальный экстремум."
   ]
  },
  {
   "cell_type": "code",
   "execution_count": 2,
   "metadata": {},
   "outputs": [
    {
     "data": {
      "text/latex": [
       "$$\\left [ 0, \\quad - \\frac{\\sqrt{3} \\sqrt{\\frac{1}{n}}}{2}, \\quad \\frac{\\sqrt{3} \\sqrt{\\frac{1}{n}}}{2}\\right ]$$"
      ],
      "text/plain": [
       "⎡           ___          ___⎤\n",
       "⎢          ╱ 1          ╱ 1 ⎥\n",
       "⎢   -√3⋅  ╱  ─    √3⋅  ╱  ─ ⎥\n",
       "⎢       ╲╱   n       ╲╱   n ⎥\n",
       "⎢0, ────────────, ──────────⎥\n",
       "⎣        2            2     ⎦"
      ]
     },
     "execution_count": 2,
     "metadata": {},
     "output_type": "execute_result"
    }
   ],
   "source": [
    "solve(diffed_varphi, t)"
   ]
  },
  {
   "cell_type": "markdown",
   "metadata": {},
   "source": [
    "Отсюда получаем, что $t_0 = \\sqrt{\\frac{3}{4n}}$.\n",
    "\n",
    "Сравним значения функции $\\varphi$ в точке $t_0$ и на концах отрезка:"
   ]
  },
  {
   "cell_type": "code",
   "execution_count": 3,
   "metadata": {},
   "outputs": [
    {
     "data": {
      "text/latex": [
       "$$0$$"
      ],
      "text/plain": [
       "0"
      ]
     },
     "metadata": {},
     "output_type": "display_data"
    },
    {
     "data": {
      "text/latex": [
       "$$3 \\sqrt{3} n e^{- 9 n}$$"
      ],
      "text/plain": [
       "        -9⋅n\n",
       "3⋅√3⋅n⋅ℯ    "
      ]
     },
     "metadata": {},
     "output_type": "display_data"
    },
    {
     "data": {
      "text/latex": [
       "$$\\frac{\\sqrt{2} \\cdot 3^{\\frac{3}{4}} n}{4 e^{\\frac{3}{4}}} \\left(\\frac{1}{n}\\right)^{\\frac{3}{4}}$$"
      ],
      "text/plain": [
       "             3/4      \n",
       "    3/4   ⎛1⎞     -3/4\n",
       "√2⋅3   ⋅n⋅⎜─⎟   ⋅ℯ    \n",
       "          ⎝n⎠         \n",
       "──────────────────────\n",
       "          4           "
      ]
     },
     "metadata": {},
     "output_type": "display_data"
    }
   ],
   "source": [
    "varphi_0 = varphi.subs(t, 0)\n",
    "varphi_1 = varphi.subs(t, 3)\n",
    "varphi_2 = varphi.subs(t, sqrt(3/(4*n)))\n",
    "\n",
    "display(simplify(varphi_0))\n",
    "display(simplify(varphi_1))\n",
    "display(simplify(varphi_2)) "
   ]
  },
  {
   "cell_type": "markdown",
   "metadata": {},
   "source": [
    "Заметим, что при любых положительных значениях $n$: $\\varphi(t_0)$ - наибольшее значение функции $\\varphi$ на отрезке $[0; 3]$.\n",
    "\n",
    "Возвращаемся к вычислению расстояния между функциями $x_n(t)$ и $x(t) = 0$.\n",
    "\n",
    "$\\rho_{C[0;3]}(x_n, 0) = \\max_{t \\in [0; 3]}(\\frac{nt\\sqrt{t}}{exp(nt^2)}) = \\frac{\\sqrt{2} \\cdot 3^{\\frac{3}{4}} n}{4 e^{\\frac{3}{4}}} \\left(\\frac{1}{n}\\right)^{\\frac{3}{4}} \\to \\infty$ при $n \\to \\infty$.\n",
    "\n",
    "Действительно, рассмотрим предел:"
   ]
  },
  {
   "cell_type": "code",
   "execution_count": 4,
   "metadata": {},
   "outputs": [
    {
     "data": {
      "text/latex": [
       "$$\\infty$$"
      ],
      "text/plain": [
       "∞"
      ]
     },
     "execution_count": 4,
     "metadata": {},
     "output_type": "execute_result"
    }
   ],
   "source": [
    "limit(varphi_2, n, oo)"
   ]
  },
  {
   "cell_type": "markdown",
   "metadata": {},
   "source": [
    "Таким образом, доказано, что $x_n \\nrightarrow x$ в пространстве $C[0; 3]$.\n",
    "\n",
    "Теперь проверим, имеется ли среднеквадратичная сходимость.\n",
    "\n",
    "$$\\rho_{L^2(0;3)}(x_n, 0) = \\sqrt{\\int_0^3{(\\mathrm{\\frac{nt\\sqrt{t}}{exp(nt^2)}})}^2\\,\\mathrm{d}t}$$"
   ]
  },
  {
   "cell_type": "code",
   "execution_count": 5,
   "metadata": {
    "scrolled": false
   },
   "outputs": [
    {
     "data": {
      "text/latex": [
       "$$n^{2} t^{3} e^{- 2 n t^{2}}$$"
      ],
      "text/plain": [
       "             2\n",
       " 2  3  -2⋅n⋅t \n",
       "n ⋅t ⋅ℯ       "
      ]
     },
     "metadata": {},
     "output_type": "display_data"
    }
   ],
   "source": [
    "varphi_sqr = varphi**2\n",
    "# rho = integrate(varphi_sqr, (t, 0, 3))\n",
    "# display(sqrt(rho))\n",
    "display(varphi_sqr)"
   ]
  },
  {
   "cell_type": "markdown",
   "metadata": {},
   "source": [
    "Так как sympy в текущей версии не может посчитать данный интеграл, то обращусь к Matlab R2017b:\n",
    "![Первый скрин](../../files/module1/matlab1.png)\n",
    "\n",
    "Так как $\\sqrt{\\int_0^3{(\\mathrm{\\frac{nt\\sqrt{t}}{exp(nt^2)}})}^2\\,\\mathrm{d}t} \\nrightarrow 0$ при $n \\to \\infty$, то и нет среднеквадратичной сходимости."
   ]
  },
  {
   "cell_type": "code",
   "execution_count": 6,
   "metadata": {},
   "outputs": [
    {
     "data": {
      "image/png": "[encoded data removed]",
      "text/plain": [
       "<matplotlib.figure.Figure at 0x7f10a557de80>"
      ]
     },
     "metadata": {},
     "output_type": "display_data"
    },
    {
     "data": {
      "text/plain": [
       "<sympy.plotting.plot.Plot at 0x7f10bcb74f98>"
      ]
     },
     "execution_count": 6,
     "metadata": {},
     "output_type": "execute_result"
    }
   ],
   "source": [
    "plot(varphi.subs(n, 1), varphi.subs(n, 2), varphi.subs(n, 3),\n",
    "     varphi.subs(n, 4), varphi.subs(n, 5), varphi.subs(n, 6),\n",
    "     varphi.subs(n, 7), varphi.subs(n, 8), varphi.subs(n, 9),\n",
    "     varphi.subs(n, 10), varphi.subs(n, 11), varphi.subs(n, 12),\n",
    "     varphi.subs(n, 13), varphi.subs(n, 14), varphi.subs(n, 15),\n",
    "     xlim=(0, 3))"
   ]
  },
  {
   "cell_type": "markdown",
   "metadata": {},
   "source": [
    "Как видно из рисунка, $x_n \\rightarrow x$ в пространстве $L^2(0; 3)$. "
   ]
  },
  {
   "cell_type": "markdown",
   "metadata": {},
   "source": [
    "b) $x_n = \\frac{n t \\left(n t + 1\\right)}{n^{2} t^{2} + 1}, x(t) = 1, [a; b] = [\\frac{1}{2}; 4]$\n",
    "\n",
    "Как указано в §3 конспекта лекций, под равномерной сходимостью понимают сходимость в пространстве $C[a;b]$. Среднеквадратичной сходимостью называют сходимость в пространстве $L^2(a; b)$.Причем равномерная сходимость – более сильное свойство, чем среднеквадратиtчная, иными словами, при наличии равномерной сходимости имеется и среднеквадратичная: \n",
    "$x_n \\to x$ в $C[a; b] \\Rightarrow x_n \\to x$ в $L^2(a; b)$\n",
    "\n",
    "Если равномерной сходимости нет, то может быть более слабая – среднеквадратичная. Для данных задачи проверим сначала, имеется ли равномерная сходимость. Вычислим\n",
    "расстояние между функциями $x_n(t)$ и $x(t) = 0$ в пространстве $C[\\frac{1}{2}; 4]$:\n",
    "$$\\rho_{C[\\frac{1}{2}; 4]}(x_n, 1) = \\max_{t \\in [\\frac{1}{2}; 4]}|x_n(t) - 1| = \\max_{t \\in [\\frac{1}{2}; 4]}(\\frac{n t - 1}{n^{2} t^{2} + 1})$$\n",
    "\n",
    "Найдем наибольшее значение функции $\\varphi = \\frac{n t - 1}{n^{2} t^{2} + 1}$ на отрезке $[0; 3]$. Как известно,\n",
    "наибольшее значение непрерывной функции следует искать среди ее значений на концах отрезка и локальных экстремумов внутри отрезка.\n",
    "\n",
    "Вычисляем $\\varphi^{'}(t)$:"
   ]
  },
  {
   "cell_type": "code",
   "execution_count": 7,
   "metadata": {},
   "outputs": [
    {
     "data": {
      "text/latex": [
       "$$\\frac{n}{\\left(n^{2} t^{2} + 1\\right)^{2}} \\left(n^{2} t^{2} - 2 n t \\left(n t - 1\\right) + 1\\right)$$"
      ],
      "text/plain": [
       "  ⎛ 2  2                      ⎞\n",
       "n⋅⎝n ⋅t  - 2⋅n⋅t⋅(n⋅t - 1) + 1⎠\n",
       "───────────────────────────────\n",
       "                     2         \n",
       "          ⎛ 2  2    ⎞          \n",
       "          ⎝n ⋅t  + 1⎠          "
      ]
     },
     "metadata": {},
     "output_type": "display_data"
    }
   ],
   "source": [
    "varphi = simplify((n*t*(1 + n*t))/(1 + n**2*t**2) - 1)\n",
    "diffed_varphi = simplify(diff(varphi, t))\n",
    "\n",
    "display(diffed_varphi)"
   ]
  },
  {
   "cell_type": "markdown",
   "metadata": {},
   "source": [
    "Из условия $\\varphi^{'}(t) = 0, t \\in (\\frac{1}{2}; 4)$, находим точку, в которой может быть локальный экстремум."
   ]
  },
  {
   "cell_type": "code",
   "execution_count": 8,
   "metadata": {},
   "outputs": [
    {
     "data": {
      "text/latex": [
       "$$\\left [ \\frac{1}{n} \\left(1 + \\sqrt{2}\\right), \\quad \\frac{1}{n} \\left(- \\sqrt{2} + 1\\right)\\right ]$$"
      ],
      "text/plain": [
       "⎡1 + √2  -√2 + 1⎤\n",
       "⎢──────, ───────⎥\n",
       "⎣  n        n   ⎦"
      ]
     },
     "execution_count": 8,
     "metadata": {},
     "output_type": "execute_result"
    }
   ],
   "source": [
    "solve(diffed_varphi, t)"
   ]
  },
  {
   "cell_type": "markdown",
   "metadata": {},
   "source": [
    "Отсюда получаем, что $t_0 = \\frac{1}{n} \\left(1 + \\sqrt{2}\\right)$.\n",
    "\n",
    "Сравним значения функции $\\varphi$ в точке $t_0$ и на концах отрезка:"
   ]
  },
  {
   "cell_type": "code",
   "execution_count": 9,
   "metadata": {},
   "outputs": [
    {
     "data": {
      "text/latex": [
       "$$\\frac{2 \\left(n - 2\\right)}{n^{2} + 4}$$"
      ],
      "text/plain": [
       "2⋅(n - 2)\n",
       "─────────\n",
       "   2     \n",
       "  n  + 4 "
      ]
     },
     "metadata": {},
     "output_type": "display_data"
    },
    {
     "data": {
      "text/latex": [
       "$$\\frac{4 n - 1}{16 n^{2} + 1}$$"
      ],
      "text/plain": [
       " 4⋅n - 1 \n",
       "─────────\n",
       "    2    \n",
       "16⋅n  + 1"
      ]
     },
     "metadata": {},
     "output_type": "display_data"
    },
    {
     "data": {
      "text/latex": [
       "$$- \\frac{1}{2} + \\frac{\\sqrt{2}}{2}$$"
      ],
      "text/plain": [
       "  1   √2\n",
       "- ─ + ──\n",
       "  2   2 "
      ]
     },
     "metadata": {},
     "output_type": "display_data"
    }
   ],
   "source": [
    "varphi_0 = varphi.subs(t, Rational(1, 2))\n",
    "varphi_1 = varphi.subs(t, 4)\n",
    "varphi_2 = varphi.subs(t, (1 + sqrt(2))/n)\n",
    "\n",
    "display(simplify(varphi_0))\n",
    "display(simplify(varphi_1))\n",
    "display(simplify(varphi_2)) "
   ]
  },
  {
   "cell_type": "code",
   "execution_count": 10,
   "metadata": {},
   "outputs": [
    {
     "data": {
      "text/latex": [
       "$$0$$"
      ],
      "text/plain": [
       "0"
      ]
     },
     "execution_count": 10,
     "metadata": {},
     "output_type": "execute_result"
    }
   ],
   "source": [
    "limit(varphi_0, n, oo)"
   ]
  },
  {
   "cell_type": "code",
   "execution_count": 11,
   "metadata": {},
   "outputs": [
    {
     "data": {
      "text/latex": [
       "$$\\left(\\frac{n t - 1}{n^{2} t^{2} + 1} - 1\\right)^{2}$$"
      ],
      "text/plain": [
       "               2\n",
       "⎛ n⋅t - 1     ⎞ \n",
       "⎜───────── - 1⎟ \n",
       "⎜ 2  2        ⎟ \n",
       "⎝n ⋅t  + 1    ⎠ "
      ]
     },
     "metadata": {},
     "output_type": "display_data"
    }
   ],
   "source": [
    "varphi_sqr = (varphi - 1)**2\n",
    "# integrate(varphi_sqr, (t, Rational(1, 2), 4))\n",
    "display(varphi_sqr)"
   ]
  },
  {
   "cell_type": "markdown",
   "metadata": {},
   "source": [
    "Так как sympy в текущей версии не может посчитать данный интеграл, то обрачусь к Matlab R2017b:\n",
    "![Второй скрин](../../files/module1/matlab2.png)\n",
    "\n",
    "Следовательно, имеется среднеквадратичная сходимость."
   ]
  },
  {
   "cell_type": "code",
   "execution_count": 12,
   "metadata": {},
   "outputs": [
    {
     "data": {
      "image/png": "[encoded data removed]",
      "text/plain": [
       "<matplotlib.figure.Figure at 0x7f10a0491a20>"
      ]
     },
     "metadata": {},
     "output_type": "display_data"
    },
    {
     "data": {
      "text/plain": [
       "<sympy.plotting.plot.Plot at 0x7f10a0498518>"
      ]
     },
     "execution_count": 12,
     "metadata": {},
     "output_type": "execute_result"
    }
   ],
   "source": [
    "plot(varphi.subs(n, 1), varphi.subs(n, 2), varphi.subs(n, 3),\n",
    "     varphi.subs(n, 4), varphi.subs(n, 5), varphi.subs(n, 6),\n",
    "     varphi.subs(n, 7), varphi.subs(n, 8), varphi.subs(n, 9),\n",
    "     varphi.subs(n, 10), varphi.subs(n, 11), varphi.subs(n, 12),\n",
    "     varphi.subs(n, 13), varphi.subs(n, 14), varphi.subs(n, 15),\n",
    "     xlim=(0, 3))"
   ]
  }
 ],
 "metadata": {
  "kernelspec": {
   "display_name": "Python 3",
   "language": "python",
   "name": "python3"
  },
  "language_info": {
   "codemirror_mode": {
    "name": "ipython",
    "version": 3
   },
   "file_extension": ".py",
   "mimetype": "text/x-python",
   "name": "python",
   "nbconvert_exporter": "python",
   "pygments_lexer": "ipython3",
   "version": "3.5.2"
  }
 },
 "nbformat": 4,
 "nbformat_minor": 2
}
