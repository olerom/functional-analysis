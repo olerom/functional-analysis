{
 "cells": [
  {
   "cell_type": "markdown",
   "metadata": {},
   "source": [
    "<strong>Выписать несколько членов последовательности $x^{(n)}$, $n = 1, 2, 3, \\dots$. Установить, является ли последовательность $x^{(n)}$ фундаментальной и сходящейся в указанном пространстве. <font color='red'>(3 балла за каждый пункт)</font></strong>\n",
    "\n",
    "a) $l^1$, $x^{(n)} = (\\frac{2}{n^4}, \\frac{4}{n^4}, \\frac{6}{n^4}, \\dots, \\frac{2n}{n^4}, 0, 0, \\dots)$\n",
    "\n",
    "Выпишем несколько членов последовательности $x^{(n)}$ при $n = 1, 2, 3, 4$:\n",
    "$$x^{(1)} = (2, 0, 0, \\dots)$$\n",
    "$$x^{(2)} = (\\frac{2}{16},\\frac{4}{16}, 0, 0, \\dots)$$\n",
    "$$x^{(3)} = (\\frac{2}{81}, \\frac{4}{81}, \\frac{6}{81}, 0, 0, \\dots)$$\n",
    "$$x^{(4)} = (\\frac{2}{256}, \\frac{4}{256}, \\frac{6}{256}, \\frac{8}{256}, 0, 0, \\dots)$$\n",
    "\n",
    "Легко видеть, что при $n \\to \\infty$\n",
    "$$x_0^{(n)} \\to 0$$\n",
    "$$x_k^{(n)} \\to 0, k > 1$$\n",
    "\n",
    "<u>Гипотеза</u>: $x^{(n)} \\to x$ в пространстве $l^1$, где $x = (0, 0, 0, \\dots)$. Заметим, что последовательность\n",
    "$x$ также принадлежит пространству $l^1$, иначе гипотеза не имела бы смысла.\n",
    "Проверим гипотезу по определению сходимости в пространстве $l^1$:\n",
    "\n",
    "$\\rho_{l^1}(x^{(n)}, x) = \\sum_{k=1}^{\\infty} \\mid{x_k^{(n)} - x_k}\\mid = \\sum_{k=1}^{\\infty} \\mid{x_k^{(n)}}\\mid = \\sum_{k=1}^{2n} \\mid{x_k^{(n)}}\\mid = \\sum_{k=1}^{2n} \\mid{\\frac{2k}{n^4}}\\mid$ \n",
    "\n",
    "Заметим, что $\\sum_{k=1}^{2n} \\mid{\\frac{2k}{n^4}}\\mid \\to 0$ при $n \\to \\infty$\n",
    "\n",
    "Таким образом, доказано, что $x^{(n)}$ – сходящаяся последовательность."
   ]
  },
  {
   "cell_type": "code",
   "execution_count": 6,
   "metadata": {},
   "outputs": [],
   "source": [
    "import math\n",
    "series = []\n"
   ]
  },
  {
   "cell_type": "markdown",
   "metadata": {},
   "source": [
    "b) $l^\\infty$, $x^{(n)} = (n, n - 1, n - 2, \\dots, 2, 1, 0, 0, \\dots)$\n",
    "\n",
    "Пусть $x^{(n)} = (x_1^{(n)}, x_2^{(n)}, x_3^{(n)}, \\dots, x_k^{(n)}, \\dots)$. По условию $x_k^{(n)} = n - (k - 1)$\n",
    "\n",
    "Выпишем несколько членов последовательности $x^{(n)}$ при $n = 1, 2, 3, 4$:\n",
    "$$x^{(1)} = (1, 0, 0, \\dots)$$\n",
    "$$x^{(2)} = (2, 1, 0, 0, \\dots)$$\n",
    "$$x^{(3)} = (3, 2, 1, 0, 0, \\dots)$$\n",
    "$$x^{(4)} = (4, 3, 2, 1, 0, 0, \\dots)$$\n",
    "\n",
    "Легко видеть, что при $n \\to \\infty$\n",
    "$$x_0^{(n)} \\to \\infty$$\n",
    "$$x_k^{(n)} \\to 0, k > 0$$"
   ]
  },
  {
   "cell_type": "code",
   "execution_count": null,
   "metadata": {},
   "outputs": [],
   "source": []
  }
 ],
 "metadata": {
  "kernelspec": {
   "display_name": "Python 3",
   "language": "python",
   "name": "python3"
  },
  "language_info": {
   "codemirror_mode": {
    "name": "ipython",
    "version": 3
   },
   "file_extension": ".py",
   "mimetype": "text/x-python",
   "name": "python",
   "nbconvert_exporter": "python",
   "pygments_lexer": "ipython3",
   "version": "3.5.2"
  }
 },
 "nbformat": 4,
 "nbformat_minor": 2
}
