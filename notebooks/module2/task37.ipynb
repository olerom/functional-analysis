{
 "cells": [
  {
   "cell_type": "markdown",
   "metadata": {},
   "source": [
    "<b>34. Вычислить несколько первых коэффициентов Фурье для функции $x = x(t)$ по указанной системе ортогональных многочленов. Подтвердить графически сходимость ряда Фурье к функции $x$.</b>\n",
    "\n",
    "$x(t) = |t|$, многочлены Эрмита\n",
    "\n",
    "Многочлены Эрмита образуют ортогональный (после нормировки – ортонормированный) базис в гильбертовом пространстве  $L^{2, \\xi}(-\\infty, +\\infty), \\xi(t) = e^{-t}$."
   ]
  },
  {
   "cell_type": "code",
   "execution_count": 4,
   "metadata": {},
   "outputs": [
    {
     "data": {
      "text/latex": [
       "$$\\left [ 1, \\quad t, \\quad t^{2}, \\quad t^{3}, \\quad t^{4}, \\quad t^{5}, \\quad t^{6}, \\quad t^{7}, \\quad t^{8}, \\quad t^{9}, \\quad t^{10}\\right ]$$"
      ],
      "text/plain": [
       "⎡       2   3   4   5   6   7   8   9   10⎤\n",
       "⎣1, t, t , t , t , t , t , t , t , t , t  ⎦"
      ]
     },
     "metadata": {},
     "output_type": "display_data"
    }
   ],
   "source": [
    "import sympy as sp\n",
    "from IPython.display import display\n",
    "\n",
    "sp.init_printing(use_latex='mathjax')\n",
    "\n",
    "t = sp.Symbol('t')\n",
    "\n",
    "x = sp.Abs(t)\n",
    "xi = sp.exp(-t**2)\n",
    "a = -sp.oo\n",
    "b = sp.oo\n",
    "\n",
    "monomial_system = []\n",
    "for i in range(11):\n",
    "    monomial_system.append(t**i)\n",
    "    \n",
    "display(monomial_system)"
   ]
  },
  {
   "cell_type": "code",
   "execution_count": 6,
   "metadata": {},
   "outputs": [],
   "source": [
    "def scal(x, y):\n",
    "    return sp.integrate(x*y*xi, (t, a, b))\n",
    "\n",
    "def get_sum(i, orthogonal_system, base_system):\n",
    "    sum = 0\n",
    "    for j in range(i):\n",
    "        sum += ((scal(base_system[i + 1], orthogonal_system[j]))\n",
    "                *(orthogonal_system[j])/(scal(orthogonal_system[j], orthogonal_system[j])))\n",
    "        \n",
    "    return sum"
   ]
  },
  {
   "cell_type": "code",
   "execution_count": null,
   "metadata": {},
   "outputs": [],
   "source": [
    "permite_polynomials = [monomial_system[0]]\n",
    "\n",
    "for i in range(1, 11):\n",
    "    permite_polynomials.append(monomial_system[i] - get_sum(i - 1, permite_polynomials, monomial_system))\n",
    "    \n",
    "display(permite_polynomials)"
   ]
  },
  {
   "cell_type": "markdown",
   "metadata": {},
   "source": [
    "Далее вычислим коэффициенты Фурье для функции $x$:"
   ]
  },
  {
   "cell_type": "code",
   "execution_count": null,
   "metadata": {},
   "outputs": [],
   "source": [
    "fourier_coefficients = []\n",
    "\n",
    "for i in range(11):\n",
    "    fourier_coefficients.append(sp.integrate(x*permite_polynomials[i]*xi, (t, a, b)))\n",
    "        \n",
    "display(fourier_coefficients)"
   ]
  },
  {
   "cell_type": "markdown",
   "metadata": {},
   "source": [
    "Значения полученных коэффициентов стремятся к нулю. Это является необходимым признаком, что они вычислены правильно."
   ]
  },
  {
   "cell_type": "code",
   "execution_count": null,
   "metadata": {},
   "outputs": [],
   "source": [
    "partial_amounts = []\n",
    "\n",
    "for i in range(10):\n",
    "    sum = 0\n",
    "    for j in range(i + 1):\n",
    "        sum += fourier_coefficients[j]*permite_polynomials[j]\n",
    "    partial_amounts.append(sum)\n",
    "    \n",
    "display(partial_amounts)"
   ]
  },
  {
   "cell_type": "code",
   "execution_count": null,
   "metadata": {},
   "outputs": [],
   "source": []
  }
 ],
 "metadata": {
  "kernelspec": {
   "display_name": "Python 3",
   "language": "python",
   "name": "python3"
  },
  "language_info": {
   "codemirror_mode": {
    "name": "ipython",
    "version": 3
   },
   "file_extension": ".py",
   "mimetype": "text/x-python",
   "name": "python",
   "nbconvert_exporter": "python",
   "pygments_lexer": "ipython3",
   "version": "3.5.2"
  }
 },
 "nbformat": 4,
 "nbformat_minor": 2
}
