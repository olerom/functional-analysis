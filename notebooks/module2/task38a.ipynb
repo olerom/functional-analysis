{
 "cells": [
  {
   "cell_type": "markdown",
   "metadata": {},
   "source": [
    "<b>38. Аппроксимировать функцию $x = x(t)$ в пространстве $L^2(-1; 1)$ двумя способами:\n",
    "    \n",
    "A. при помощи ортогональной тригонометрической системы;\n",
    "\n",
    "B. при помощи ортогональных многочленов Лежандра.\n",
    "\n",
    "Число $n$ - заданный порядок аппроксимации. Построить графики функции $x$ и полученных аппроксимаций. Сравнить точность аппроксимаций в метрике пространства $L^2(-1; 1)$.</b>\n",
    "\n",
    "a) $x(t) = \\frac{1}{\\sqrt[3]{1+t}}, n = 8$\n",
    "\n",
    "<i>A. Тригонометрическая аппроксимация.</i>\n",
    "\n",
    "Рассмотрим в пространстве $L^2(-1; 1)$ ортонормированный тригонометрический базис:\n",
    "\n",
    "$$\\{\\frac{1}{\\sqrt{2}}, \\sin{\\pi t}, \\cos{\\pi t}, \\sin{2\\pi t}, \\cos{2\\pi t}, \\dots, \\sin{k\\pi t}, \\cos{k\\pi t}, \\dots\\}$$"
   ]
  },
  {
   "cell_type": "code",
   "execution_count": 1,
   "metadata": {},
   "outputs": [],
   "source": [
    "import sympy as sp\n",
    "import scipy.integrate as integrate\n",
    "from IPython.display import display, Latex\n",
    "\n",
    "sp.init_printing(use_latex='mathjax')\n",
    "\n",
    "t = sp.Symbol('t')\n",
    "# Исходная функция\n",
    "x = 1/(1+t)**(sp.Rational(1, 3))\n",
    "n = 8\n",
    "\n",
    "a0 = (1/sp.sqrt(2))*(sp.integrate(x, (t, -1, 1)))\n",
    "a = []\n",
    "b = []\n",
    "\n",
    "# Высчитаем коэффициенты a и b\n",
    "for i in range(1, n + 1):\n",
    "    a.append(integrate.quad(lambda z: x.subs(t, z)*sp.cos(i*sp.pi*z), -1, 1)[0])\n",
    "    b.append(integrate.quad(lambda z: x.subs(t, z)*sp.sin(i*sp.pi*z), -1, 1)[0])\n",
    "\n",
    "sum_to_n = 0\n",
    "for i in range (n):\n",
    "    sum_to_n += a[i]*sp.cos((i + 1)*sp.pi*t) + b[i]*sp.sin((i + 1)*sp.pi*t)\n",
    "\n",
    "# Частичная сумму ряда Фурье по этому базису:\n",
    "trig = a0/sp.sqrt(2) + sum_to_n"
   ]
  },
  {
   "cell_type": "markdown",
   "metadata": {},
   "source": [
    "Причем, $trig = trig(t)$ - частичная сумма ряда Фурье для функции $x$ по ортонормированному тригонометрическому базису.\n",
    "\n",
    "Теперь изобразим графики этих функций."
   ]
  },
  {
   "cell_type": "code",
   "execution_count": 2,
   "metadata": {},
   "outputs": [
    {
     "data": {
      "image/png": "[encoded data removed]",
      "text/plain": [
       "<matplotlib.figure.Figure at 0x7f0278c7bb70>"
      ]
     },
     "metadata": {},
     "output_type": "display_data"
    }
   ],
   "source": [
    "p = sp.plot((trig, (t, -0.9, 0.9)), \n",
    "            (x, (t, -0.9, 0.9)),\n",
    "            title='Графики trig и x',\n",
    "            show=False,\n",
    "            legend=True)\n",
    "p[0].line_color = 'firebrick'\n",
    "p[0].label = 'trig'\n",
    "p[1].line_color = 'royalblue'\n",
    "p[1].label = 'x'\n",
    "p.show()"
   ]
  },
  {
   "cell_type": "markdown",
   "metadata": {},
   "source": [
    "<i>B. Аппроксимация многочленами Лежандра.</i>\n",
    "\n",
    "Рассмотрим в пространстве $L^2(-1; 1)$ ортонормированный базис, составленный из многочленов Лежандра:\n",
    "\n",
    "$$\\{P_0(t), P_1(t), P_2(t), \\dots, P_k(t), \\dots\\}$$"
   ]
  },
  {
   "cell_type": "code",
   "execution_count": 3,
   "metadata": {},
   "outputs": [
    {
     "data": {
      "text/latex": [
       "Нашли 8 первых многочленов Лагранджа"
      ],
      "text/plain": [
       "<IPython.core.display.Latex object>"
      ]
     },
     "metadata": {},
     "output_type": "display_data"
    },
    {
     "data": {
      "text/latex": [
       "$$\\left [ 1, \\quad t, \\quad t^{2} - \\frac{1}{3}, \\quad t^{3} - \\frac{3 t}{5}, \\quad t^{4} - \\frac{6 t^{2}}{7} + \\frac{3}{35}, \\quad t^{5} - \\frac{10 t^{3}}{9} + \\frac{5 t}{21}, \\quad t^{6} - \\frac{15 t^{4}}{11} + \\frac{5 t^{2}}{11} - \\frac{5}{231}, \\quad t^{7} - \\frac{21 t^{5}}{13} + \\frac{105 t^{3}}{143} - \\frac{35 t}{429}, \\quad t^{8} - \\frac{28 t^{6}}{15} + \\frac{14 t^{4}}{13} - \\frac{28 t^{2}}{143} + \\frac{7}{1287}\\right ]$$"
      ],
      "text/plain": [
       "⎡                                2                3                 4      2  \n",
       "⎢       2   1   3   3⋅t   4   6⋅t    3    5   10⋅t    5⋅t   6   15⋅t    5⋅t   \n",
       "⎢1, t, t  - ─, t  - ───, t  - ──── + ──, t  - ───── + ───, t  - ───── + ──── -\n",
       "⎣           3        5         7     35         9      21         11     11   \n",
       "\n",
       "               5        3                  6       4       2       ⎤\n",
       "  5    7   21⋅t    105⋅t    35⋅t   8   28⋅t    14⋅t    28⋅t     7  ⎥\n",
       " ───, t  - ───── + ────── - ────, t  - ───── + ───── - ───── + ────⎥\n",
       " 231         13     143     429          15      13     143    1287⎦"
      ]
     },
     "metadata": {},
     "output_type": "display_data"
    }
   ],
   "source": [
    "# Найдем первые многочлены Лагранджа:\n",
    "p = [1]\n",
    "\n",
    "for i in range(1, n + 1):\n",
    "    p.append(t**i)\n",
    "    for j in range(i - 1):\n",
    "        p[i] = p[i] - p[j]*((sp.integrate((t**i)*p[j], (t, -1, 1)))/(sp.integrate(p[j]*p[j], (t, -1, 1))))\n",
    "\n",
    "display(Latex(\"Нашли \" + str(n) + \" первых многочленов Лагранджа\"))\n",
    "display(p)"
   ]
  },
  {
   "cell_type": "code",
   "execution_count": 4,
   "metadata": {},
   "outputs": [],
   "source": [
    "# Найдем частичную сумму ряда Фурье по этому базису\n",
    "leg = 0\n",
    "\n",
    "for i in range(0, n + 1):\n",
    "    if i == 0:\n",
    "        leg += integrate.quad(lambda z: x.subs(t, z)*p[i], -1, 1)[0]*p[i]\n",
    "    else:\n",
    "        leg += integrate.quad(lambda z: x.subs(t, z)*p[i].subs(t, z), -1, 1)[0]*p[i]"
   ]
  },
  {
   "cell_type": "markdown",
   "metadata": {},
   "source": [
    "Причем, $leg = leg(t)$ - частичная сумма ряда Фурье для функции $x$ по ортонормированному базису, составленному из многочленов Лежандра.\n",
    "\n",
    "Теперь изобразим графики этих функций."
   ]
  },
  {
   "cell_type": "code",
   "execution_count": 5,
   "metadata": {},
   "outputs": [
    {
     "data": {
      "image/png": "[encoded data removed]",
      "text/plain": [
       "<matplotlib.figure.Figure at 0x7f024920aa20>"
      ]
     },
     "metadata": {},
     "output_type": "display_data"
    }
   ],
   "source": [
    "p = sp.plot((leg, (t, -0.9, 2)), \n",
    "            (x, (t, -0.9, 2)),\n",
    "            title='Графики leg и x',\n",
    "            show=False,\n",
    "            legend=True)\n",
    "p[0].line_color = 'firebrick'\n",
    "p[0].label = 'leg'\n",
    "p[1].line_color = 'royalblue'\n",
    "p[1].label = 'x'\n",
    "p.show()"
   ]
  },
  {
   "cell_type": "markdown",
   "metadata": {},
   "source": [
    "По графикам можно предположить, что в данном случае тригонометрическая аппроксимация точнее, чем аппроксимация многочленами Лежандра.\n",
    "\n",
    "Вычислим расстояния между функцией и частичными суммами непосредственным образом."
   ]
  },
  {
   "cell_type": "code",
   "execution_count": 6,
   "metadata": {},
   "outputs": [
    {
     "data": {
      "text/latex": [
       "Найдем $||x - trig||$:"
      ],
      "text/plain": [
       "<IPython.core.display.Latex object>"
      ]
     },
     "metadata": {},
     "output_type": "display_data"
    },
    {
     "data": {
      "text/latex": [
       "$$0.702569010089063$$"
      ],
      "text/plain": [
       "0.702569010089063"
      ]
     },
     "metadata": {},
     "output_type": "display_data"
    },
    {
     "data": {
      "text/latex": [
       "Найдем $||x - leg||$:"
      ],
      "text/plain": [
       "<IPython.core.display.Latex object>"
      ]
     },
     "metadata": {},
     "output_type": "display_data"
    },
    {
     "data": {
      "text/latex": [
       "$$1.8500800620238$$"
      ],
      "text/plain": [
       "1.85008006202380"
      ]
     },
     "metadata": {},
     "output_type": "display_data"
    }
   ],
   "source": [
    "def diff(x, y):\n",
    "    return sp.sqrt(integrate.quad(lambda z: (sp.N((x - y)**2)).subs(t, z), -1, 1)[0])\n",
    "\n",
    "display(Latex(\"Найдем $||x - trig||$:\"))\n",
    "display(diff(x, trig))\n",
    "\n",
    "display(Latex(\"Найдем $||x - leg||$:\"))\n",
    "display(diff(x, leg))"
   ]
  },
  {
   "cell_type": "markdown",
   "metadata": {},
   "source": [
    "Действительно, тригонометрическая система дает более точную аппроксимацию функции $x$ в пространстве $L^2(-1; 1)$."
   ]
  }
 ],
 "metadata": {
  "kernelspec": {
   "display_name": "Python 3",
   "language": "python",
   "name": "python3"
  },
  "language_info": {
   "codemirror_mode": {
    "name": "ipython",
    "version": 3
   },
   "file_extension": ".py",
   "mimetype": "text/x-python",
   "name": "python",
   "nbconvert_exporter": "python",
   "pygments_lexer": "ipython3",
   "version": "3.5.2"
  }
 },
 "nbformat": 4,
 "nbformat_minor": 2
}
