{
 "cells": [
  {
   "cell_type": "markdown",
   "metadata": {},
   "source": [
    "<b>Дана функция $x = x(t)$ в пространстве $L^2(-1; 1)$ со стандартным скалярным произведением. Для функции $x$ в этом пространстве требуется найти\n",
    " <li>многочлен наилучшего приближения первой степени;</li>\n",
    " <li>многочлен наилучшего приближения второй степени.</li>\n",
    "Построить графики функции $x$ и полученных многочленов.</b>\n",
    "\n",
    "$x(t) = \\sqrt{1 - t^2}$"
   ]
  },
  {
   "cell_type": "code",
   "execution_count": 1,
   "metadata": {},
   "outputs": [
    {
     "data": {
      "text/latex": [
       "Функция $x(t)$:"
      ],
      "text/plain": [
       "<IPython.core.display.Latex object>"
      ]
     },
     "metadata": {},
     "output_type": "display_data"
    },
    {
     "data": {
      "text/latex": [
       "$$\\sqrt{- t^{2} + 1}$$"
      ],
      "text/plain": [
       "   __________\n",
       "  ╱    2     \n",
       "╲╱  - t  + 1 "
      ]
     },
     "metadata": {},
     "output_type": "display_data"
    },
    {
     "data": {
      "text/latex": [
       "А также нам понадобятся три первых нормированных многочлена Лежандра"
      ],
      "text/plain": [
       "<IPython.core.display.Latex object>"
      ]
     },
     "metadata": {},
     "output_type": "display_data"
    },
    {
     "data": {
      "text/latex": [
       "$$\\left [ \\frac{\\sqrt{2}}{2}, \\quad \\frac{\\sqrt{6} t}{2}, \\quad \\frac{\\sqrt{10}}{2} \\left(\\frac{3 t^{2}}{2} - \\frac{1}{2}\\right)\\right ]$$"
      ],
      "text/plain": [
       "⎡              ⎛   2    ⎞⎤\n",
       "⎢              ⎜3⋅t    1⎟⎥\n",
       "⎢          √10⋅⎜──── - ─⎟⎥\n",
       "⎢√2  √6⋅t      ⎝ 2     2⎠⎥\n",
       "⎢──, ────, ──────────────⎥\n",
       "⎣2    2          2       ⎦"
      ]
     },
     "metadata": {},
     "output_type": "display_data"
    }
   ],
   "source": [
    "import sympy as sp\n",
    "from IPython.display import display, Latex\n",
    "\n",
    "sp.init_printing(use_latex='mathjax')\n",
    "\n",
    "t = sp.Symbol('t')\n",
    "x = sp.sqrt(1 - t**2)\n",
    "a = -1\n",
    "b = 1\n",
    "\n",
    "display(Latex(\"Функция $x(t)$:\"))\n",
    "display(x)\n",
    "\n",
    "display(Latex(\"А также нам понадобятся три первых нормированных многочлена Лежандра\"))\n",
    "legendre_polynomials = [1/sp.sqrt(2),\n",
    "                        (sp.sqrt(3)/sp.sqrt(2))*t,\n",
    "                        sp.sqrt(sp.Rational(5, 2))*(sp.Rational(3, 2)*t**2 - sp.Rational(1, 2))]\n",
    "    \n",
    "display(legendre_polynomials)"
   ]
  },
  {
   "cell_type": "markdown",
   "metadata": {},
   "source": [
    "Вычислим коэффициенты Фурье для функции $x(t)$."
   ]
  },
  {
   "cell_type": "code",
   "execution_count": 2,
   "metadata": {},
   "outputs": [
    {
     "data": {
      "text/latex": [
       "$$1.110720734539593$$"
      ],
      "text/plain": [
       "1.110720734539593"
      ]
     },
     "metadata": {},
     "output_type": "display_data"
    },
    {
     "data": {
      "text/latex": [
       "Получаем следующие коэффициенты:"
      ],
      "text/plain": [
       "<IPython.core.display.Latex object>"
      ]
     },
     "metadata": {},
     "output_type": "display_data"
    },
    {
     "data": {
      "text/latex": [
       "$$\\left [ \\frac{\\sqrt{2} \\pi}{4}, \\quad 0, \\quad -0.31045588330612817\\right ]$$"
      ],
      "text/plain": [
       "⎡√2⋅π                         ⎤\n",
       "⎢────, 0, -0.31045588330612817⎥\n",
       "⎣ 4                           ⎦"
      ]
     },
     "metadata": {},
     "output_type": "display_data"
    }
   ],
   "source": [
    "import scipy.integrate as integrate\n",
    "\n",
    "fourier_coefficients = []\n",
    "\n",
    "fourier_coefficients.append(sp.integrate(x*legendre_polynomials[0], (t, a, b)))\n",
    "fourier_coefficients.append(sp.integrate(x*legendre_polynomials[1], (t, a, b)))\n",
    "# Последний коэффициент посчитаем численно\n",
    "fourier_coefficients.append(integrate.quad(lambda z: x.subs(t, z)*legendre_polynomials[2].subs(t, z), a, b)[0])\n",
    "display(integrate.quad(lambda z: x.subs(t, z)*legendre_polynomials[0].subs(t, z), a, b)[0])\n",
    "\n",
    "display(Latex(\"Получаем следующие коэффициенты:\"))\n",
    "display(fourier_coefficients)"
   ]
  },
  {
   "cell_type": "markdown",
   "metadata": {},
   "source": [
    "Найдем для функции $x(t)$ многочлены наилучшего прилижения первой и второй степени."
   ]
  },
  {
   "cell_type": "code",
   "execution_count": 3,
   "metadata": {},
   "outputs": [
    {
     "data": {
      "text/latex": [
       "Многочлен наилучшего приближения первой степени:"
      ],
      "text/plain": [
       "<IPython.core.display.Latex object>"
      ]
     },
     "metadata": {},
     "output_type": "display_data"
    },
    {
     "data": {
      "text/latex": [
       "$$\\frac{\\pi}{4}$$"
      ],
      "text/plain": [
       "π\n",
       "─\n",
       "4"
      ]
     },
     "metadata": {},
     "output_type": "display_data"
    },
    {
     "data": {
      "text/latex": [
       "Многочлен наилучшего приближения второй степени:"
      ],
      "text/plain": [
       "<IPython.core.display.Latex object>"
      ]
     },
     "metadata": {},
     "output_type": "display_data"
    },
    {
     "data": {
      "text/latex": [
       "$$- 0.155227941653064 \\sqrt{10} \\left(\\frac{3 t^{2}}{2} - \\frac{1}{2}\\right) + \\frac{\\pi}{4}$$"
      ],
      "text/plain": [
       "                        ⎛   2    ⎞    \n",
       "                        ⎜3⋅t    1⎟   π\n",
       "- 0.155227941653064⋅√10⋅⎜──── - ─⎟ + ─\n",
       "                        ⎝ 2     2⎠   4"
      ]
     },
     "metadata": {},
     "output_type": "display_data"
    }
   ],
   "source": [
    "polynomial_of_best_approximation = []\n",
    "polynomial_of_best_approximation.append(legendre_polynomials[0]*fourier_coefficients[0] + \n",
    "                                        legendre_polynomials[1]*fourier_coefficients[1])\n",
    "polynomial_of_best_approximation.append(legendre_polynomials[0]*fourier_coefficients[0] +\n",
    "                                        legendre_polynomials[1]*fourier_coefficients[1] + \n",
    "                                        legendre_polynomials[2]*fourier_coefficients[2])\n",
    "\n",
    "display(Latex(\"Многочлен наилучшего приближения первой степени:\"))\n",
    "display(polynomial_of_best_approximation[0])\n",
    "\n",
    "display(Latex(\"Многочлен наилучшего приближения второй степени:\"))\n",
    "display(polynomial_of_best_approximation[1])"
   ]
  },
  {
   "cell_type": "code",
   "execution_count": 4,
   "metadata": {},
   "outputs": [
    {
     "name": "stderr",
     "output_type": "stream",
     "text": [
      "/usr/local/lib/python3.5/dist-packages/numpy/__init__.py:1: RuntimeWarning: invalid value encountered in sqrt\n",
      "  \"\"\"\n"
     ]
    },
    {
     "data": {
      "image/png": "[encoded data removed]",
      "text/plain": [
       "<matplotlib.figure.Figure at 0x7fd53581feb8>"
      ]
     },
     "metadata": {},
     "output_type": "display_data"
    }
   ],
   "source": [
    "import matplotlib.pyplot as plt\n",
    "import numpy as np\n",
    "\n",
    "def f(function, vals):\n",
    "    return sp.lambdify(t, function)(vals)\n",
    "\n",
    "def constant_f(val, vals):\n",
    "    dd = lambda z: val\n",
    "    return sp.lambdify(t, val)(vals)\n",
    "\n",
    "t_values = np.linspace(-3, 3) \n",
    "\n",
    "plt.plot((-3, 3), \n",
    "         (polynomial_of_best_approximation[0], polynomial_of_best_approximation[0]),\n",
    "         label='Многочлен наилучшего приближения первой степени')\n",
    "plt.plot(t_values, \n",
    "         f(polynomial_of_best_approximation[1], t_values),\n",
    "         label='Многочлен наилучшего приближения второй степени')\n",
    "plt.plot(t_values,\n",
    "         f(x, t_values),\n",
    "         label='Функция x')\n",
    "\n",
    "plt.legend(bbox_to_anchor=(1.1, 1), loc=2, borderaxespad=0.)\n",
    "plt.ylabel('t')\n",
    "plt.xlabel('f(t)')\n",
    "plt.show()"
   ]
  }
 ],
 "metadata": {
  "kernelspec": {
   "display_name": "Python 3",
   "language": "python",
   "name": "python3"
  },
  "language_info": {
   "codemirror_mode": {
    "name": "ipython",
    "version": 3
   },
   "file_extension": ".py",
   "mimetype": "text/x-python",
   "name": "python",
   "nbconvert_exporter": "python",
   "pygments_lexer": "ipython3",
   "version": "3.5.2"
  }
 },
 "nbformat": 4,
 "nbformat_minor": 2
}
