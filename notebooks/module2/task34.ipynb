{
 "cells": [
  {
   "cell_type": "markdown",
   "metadata": {},
   "source": [
    "<b>34. Провести процесс ортогонализации конечной системы $\\{1, t, t^2, t^3, t^4\\}$ в пространстве $L^{2, \\xi}(a, b)$, где скалярное произведение оснащено весом $\\xi = \\xi(t)$.</b>\n",
    "\n",
    "$L^{2, \\xi}(0, +\\infty), \\xi(t) = te^{-t}$"
   ]
  },
  {
   "cell_type": "code",
   "execution_count": 1,
   "metadata": {},
   "outputs": [],
   "source": [
    "import sympy as sp\n",
    "from IPython.display import display\n",
    "\n",
    "sp.init_printing(use_latex='mathjax')\n",
    "\n",
    "t = sp.Symbol('t')\n",
    "\n",
    "end_system = [1, t, t**2, t**3, t**4]\n",
    "xi = t*sp.exp(-t)\n",
    "a = 0\n",
    "b = sp.oo"
   ]
  },
  {
   "cell_type": "markdown",
   "metadata": {},
   "source": [
    "Зададим в пространстве $L^{2, \\xi}(a, b)$ функцию скалярного произведения:"
   ]
  },
  {
   "cell_type": "code",
   "execution_count": 2,
   "metadata": {},
   "outputs": [],
   "source": [
    "def scal(x, y):\n",
    "    return sp.integrate(x*y*xi, (t, a, b))"
   ]
  },
  {
   "cell_type": "markdown",
   "metadata": {},
   "source": [
    "Проведем процесс ортогонализации Грама-Шмидта.\n",
    "\n",
    "Положим $e_0 = {end\\_system}_0$ и с помощью цикла вычислим последующие элементы ортогональной системы."
   ]
  },
  {
   "cell_type": "code",
   "execution_count": 3,
   "metadata": {},
   "outputs": [],
   "source": [
    "def get_sum(i, orthogonal_system, base_system):\n",
    "    sum = 0\n",
    "    for j in range(i):\n",
    "        sum += (scal(base_system[i + 1], orthogonal_system[j]))*(orthogonal_system[j])/(scal(orthogonal_system[j], orthogonal_system[j]))\n",
    "        \n",
    "    return sum\n",
    "\n",
    "e = [end_system[0]]\n",
    "\n",
    "for i in range(1, 5):\n",
    "    e.append(end_system[i] - get_sum(i - 1, e, end_system))"
   ]
  },
  {
   "cell_type": "markdown",
   "metadata": {},
   "source": [
    "Таким образом, мы получили ортогональную систему в пространстве $L^{2, \\xi}(0, +\\infty)$:"
   ]
  },
  {
   "cell_type": "code",
   "execution_count": 4,
   "metadata": {},
   "outputs": [
    {
     "data": {
      "text/latex": [
       "$$\\left [ 1, \\quad t, \\quad t^{2} - 6, \\quad t^{3} - 20 t - 24, \\quad t^{4} - \\frac{360 t^{2}}{7} - 120 t + \\frac{1320}{7}\\right ]$$"
      ],
      "text/plain": [
       "⎡                                        2               ⎤\n",
       "⎢       2       3               4   360⋅t            1320⎥\n",
       "⎢1, t, t  - 6, t  - 20⋅t - 24, t  - ────── - 120⋅t + ────⎥\n",
       "⎣                                     7               7  ⎦"
      ]
     },
     "metadata": {},
     "output_type": "display_data"
    }
   ],
   "source": [
    "display(e)"
   ]
  }
 ],
 "metadata": {
  "kernelspec": {
   "display_name": "Python 3",
   "language": "python",
   "name": "python3"
  },
  "language_info": {
   "codemirror_mode": {
    "name": "ipython",
    "version": 3
   },
   "file_extension": ".py",
   "mimetype": "text/x-python",
   "name": "python",
   "nbconvert_exporter": "python",
   "pygments_lexer": "ipython3",
   "version": "3.5.2"
  }
 },
 "nbformat": 4,
 "nbformat_minor": 2
}
