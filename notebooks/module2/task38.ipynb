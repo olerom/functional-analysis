{
 "cells": [
  {
   "cell_type": "markdown",
   "metadata": {},
   "source": [
    "<b>Аппроксимировать функцию\n",
    "x  xt\n",
    "в пространстве\n",
    " 1;1\n",
    "2\n",
    "L  двумя способами:\n",
    "A. при помощи ортогональной тригонометрической системы;\n",
    "B. при помощи ортогональных многочленов Лежандра.\n",
    "Число\n",
    "n – заданный порядок аппроксимации. Построить графики функции\n",
    "x\n",
    "и\n",
    "полученных аппроксимаций. Сравнить точность аппроксимаций в метрике\n",
    "пространства\n",
    " 1;1\n",
    "2\n",
    "L  .</b>"
   ]
  }
 ],
 "metadata": {
  "kernelspec": {
   "display_name": "Python 3",
   "language": "python",
   "name": "python3"
  },
  "language_info": {
   "codemirror_mode": {
    "name": "ipython",
    "version": 3
   },
   "file_extension": ".py",
   "mimetype": "text/x-python",
   "name": "python",
   "nbconvert_exporter": "python",
   "pygments_lexer": "ipython3",
   "version": "3.5.2"
  }
 },
 "nbformat": 4,
 "nbformat_minor": 2
}
